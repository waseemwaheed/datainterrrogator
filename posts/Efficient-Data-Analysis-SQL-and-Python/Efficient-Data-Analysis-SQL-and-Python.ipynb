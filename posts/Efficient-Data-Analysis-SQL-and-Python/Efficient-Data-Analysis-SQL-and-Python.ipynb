{
 "cells": [
  {
   "cell_type": "markdown",
   "id": "517b2f6d",
   "metadata": {},
   "source": [
    "---\n",
    "title: \"Efficient Data Analysis - SQL and Python\"\n",
    "author: \"Waseem Waheed\"\n",
    "date: \"2021-08-10\"\n",
    "categories: [Python, SQL]\n",
    "freeze: true\n",
    "---"
   ]
  },
  {
   "cell_type": "markdown",
   "id": "2c6246f2",
   "metadata": {},
   "source": [
    "\n",
    "## Introduction\n",
    "\n",
    "Performing data analysis, in many cases, requires loading the data from a database. Database engines are optimized for the efficient handling of data storage and retrieval. If the data is structured, which means the data follows a schema, querying the database is always performed using SQL, a domain specific language for data querying among other things.\n",
    "\n",
    "I have been using Jupyter notebooks for 4 years now, and I think the notebook concept is transformational. Being able to mix the analysis with the compute in one linear document is great. The other day I was looking at some SQL queries and thought to myself, I wish that could write those queries in Jupyter notebooks just like I do with Python, I had previously tried Matlab and Julia, why not SQL?\n",
    "\n",
    "As you would imagine, the community has thought about this question way before I did and someone has made that possible in the form of a IPython extension 😍.\n",
    "\n",
    "This post is my attempt at using SQL in the Jupyter notebook environment. The data we are going to use in this excercise the **20 years of Olympic history: athletes and results** from [Kaggle](https://www.kaggle.com/heesoo37/120-years-of-olympic-history-athletes-and-results). The analysis presented here is for practice only and for more detailed analysis of the olympic games, check [Olympians are probably older — and younger — than you think](https://www.washingtonpost.com/sports/olympics/2021/07/31/oldest-youngest-olympians/).\n",
    "\n",
    "\n",
    "\n",
    "## Motivation\n",
    "\n",
    "I have few reasons for writing this article:\n",
    "1. As a reminder for my future self, cause I tend to move on and forget 😅 as you can imagine,\n",
    "2. I hope it serves as an inspiration to you, the reader, to utilize this capability if you like it,\n",
    "3. Practice SQL, which I can't have enough of,\n",
    "4. Being able to send the calculations to the data rather than bring the data to compute is a super power in the Big Data era,\n",
    "5. Bringing the result of SQL queries back to Python rather than querying the database directly or using something like [SQL Server Management Studio](https://docs.microsoft.com/en-us/sql/ssms/download-sql-server-management-studio-ssms) or [MySQL Workbench](https://www.mysql.com/products/workbench/) allows us to visualize the data in whatever way we like.\n",
    "\n",
    "\n",
    "It is important to mention that whatever we are doing here can be done within `Pandas` directly, however from a [scalability and effeciency perspectives](https://pandas.pydata.org/pandas-docs/stable/user_guide/scale.html), the ability to do most of the filtering and summerization at the database level is a clear advantage. \n",
    "\n",
    "The database can be hosted anywhere. Which means the machine on which the analysis is carried out doesn't need to be highly resourced.\n",
    "\n",
    "### Why not an ORM?\n",
    "ORM stands for Object Relational Mapping which according to [wikipedia](https://en.wikipedia.org/wiki/Object%E2%80%93relational_mapping):\n",
    "> a programming technique for converting data between incompatible type systems using object-oriented programming languages. This creates, in effect, a \"virtual object database\" that can be used from within the programming language.\n",
    "\n",
    "ORMs hide the typical SQL interaction from the software developer, exposing the database as classes and objects with getters and setters. An typical example of an ORM are `SQLAlchemy` and `SQLModel` which builds on top `SQLAlchemy`. If you think that this is a good idea, I tend to agree as do most web frameworks but, the goal of this article is not to run away from SQL but to embrace it as universal tool that can be utilized on its own and in combination with most programming languages.\n",
    "\n",
    "### Why not Spark (or the likes)\n",
    "This is a great question. If you have heard of Big Data tools such as [Spark](https://spark.apache.org/), this question would defintely come to your mind. Spark does what we are trying to achieve, and I am planning to cover it in a follow up writeup.\n",
    "\n",
    "\n",
    "Hopefully, I managed to convince you of the benefits of being able to query databases using SQL rather than doing the same analysis in Pandas.\n",
    "\n"
   ]
  },
  {
   "cell_type": "markdown",
   "id": "5c12af6b",
   "metadata": {},
   "source": [
    "## Required packages\n",
    "\n",
    "I am going to use the following packages in this article:\n",
    "\n",
    "* [`ipython-sql`](https://pypi.org/project/ipython-sql/)\n",
    "* [`Pandas`](https://pandas.pydata.org/)\n",
    "* [`Matplotlib`](https://matplotlib.org/)\n",
    "* [`SQLAlchemy`](https://www.sqlalchemy.org/)"
   ]
  },
  {
   "cell_type": "markdown",
   "id": "776599f0",
   "metadata": {},
   "source": [
    "## Connecting to database\n",
    "\n",
    "This first step is to establish a connection to the database you would like to work on. We are going to use the `ipython-sql` extension to write and pass our SQL queries. `ipython-sql` expects database string similar to those used by `SQLAlcehmy`. For more details about the database strings check [this page](https://docs.sqlalchemy.org/en/14/core/engines.html#database-urls).\n",
    "\n",
    "In this article, I am going to use a local installation of [Microsoft SQL Server 2019 Express](https://www.microsoft.com/en-au/sql-server/sql-server-downloads). I have already downloaded MS-SQL server already and installed it. I then created a new database named `OlympicsHistory` and imported the two csv files from the Olympic History dataset into this database as a tables named `athlete_events`, `noc_region` ."
   ]
  },
  {
   "cell_type": "code",
   "execution_count": 1,
   "id": "6fa581af",
   "metadata": {},
   "outputs": [],
   "source": [
    "%load_ext sql\n",
    "import pandas as pd\n",
    "import matplotlib.pyplot as plt"
   ]
  },
  {
   "cell_type": "code",
   "execution_count": 2,
   "id": "84b0b5f9",
   "metadata": {},
   "outputs": [],
   "source": [
    "%sql mssql+pyodbc://@localhost\\SQLEXPRESS/OlympicsHistory?trusted_connection=yes&driver=SQL+Server"
   ]
  },
  {
   "cell_type": "markdown",
   "id": "ff766a03",
   "metadata": {},
   "source": [
    "## How to handle queries and results\n",
    "\n",
    "Now that you succeeded connecting to the database, let's see how can we bring data from the database into Python. The `ipython-sql` extension offers three mode of access:\n",
    "\n",
    "    1. Print the results\n",
    "    2. Assignning the result of a single-line query \n",
    "    3. Assignning the result of a multi-line query\n",
    "\n",
    "**Note:** ignore the details of the queries for now and let's focus on the handling of queries, we will return to the details of the queries in the following section.\n",
    "\n",
    "###  1. Print the results\n",
    "You use the magic command ([to learn more](https://ipython.readthedocs.io/en/stable/interactive/magics.html)) `%sql` for a single line and `%%sql` for multi-line queries. \n",
    "\n",
    "1.1. Single line query"
   ]
  },
  {
   "cell_type": "code",
   "execution_count": 3,
   "id": "6f9b2b6c",
   "metadata": {},
   "outputs": [
    {
     "name": "stdout",
     "output_type": "stream",
     "text": [
      " * mssql+pyodbc://@localhost\\SQLEXPRESS/OlympicsHistory?driver=SQL+Server&trusted_connection=yes\n",
      "Done.\n"
     ]
    },
    {
     "data": {
      "text/html": [
       "<table>\n",
       "    <tr>\n",
       "        <th>Sport</th>\n",
       "    </tr>\n",
       "    <tr>\n",
       "        <td>Basketball</td>\n",
       "    </tr>\n",
       "    <tr>\n",
       "        <td>Judo</td>\n",
       "    </tr>\n",
       "    <tr>\n",
       "        <td>Football</td>\n",
       "    </tr>\n",
       "</table>"
      ],
      "text/plain": [
       "[('Basketball',), ('Judo',), ('Football',)]"
      ]
     },
     "execution_count": 3,
     "metadata": {},
     "output_type": "execute_result"
    }
   ],
   "source": [
    "%sql SELECT DISTINCT TOP 3 Sport FROM   athlete_events "
   ]
  },
  {
   "cell_type": "markdown",
   "id": "5f75c25b",
   "metadata": {},
   "source": [
    "1.2. Multi-line query"
   ]
  },
  {
   "cell_type": "code",
   "execution_count": 4,
   "id": "1d1ce0b8",
   "metadata": {},
   "outputs": [
    {
     "name": "stdout",
     "output_type": "stream",
     "text": [
      " * mssql+pyodbc://@localhost\\SQLEXPRESS/OlympicsHistory?driver=SQL+Server&trusted_connection=yes\n",
      "Done.\n"
     ]
    },
    {
     "data": {
      "text/html": [
       "<table>\n",
       "    <tr>\n",
       "        <th>Sport</th>\n",
       "    </tr>\n",
       "    <tr>\n",
       "        <td>Basketball</td>\n",
       "    </tr>\n",
       "    <tr>\n",
       "        <td>Judo</td>\n",
       "    </tr>\n",
       "    <tr>\n",
       "        <td>Football</td>\n",
       "    </tr>\n",
       "</table>"
      ],
      "text/plain": [
       "[('Basketball',), ('Judo',), ('Football',)]"
      ]
     },
     "execution_count": 4,
     "metadata": {},
     "output_type": "execute_result"
    }
   ],
   "source": [
    "%%sql\n",
    "SELECT DISTINCT TOP 3 Sport\n",
    "FROM   athlete_events "
   ]
  },
  {
   "cell_type": "markdown",
   "id": "66cb2493",
   "metadata": {},
   "source": [
    "### 2. Assignning the result of a single-line query "
   ]
  },
  {
   "cell_type": "code",
   "execution_count": 5,
   "id": "975e29c5",
   "metadata": {},
   "outputs": [
    {
     "name": "stdout",
     "output_type": "stream",
     "text": [
      " * mssql+pyodbc://@localhost\\SQLEXPRESS/OlympicsHistory?driver=SQL+Server&trusted_connection=yes\n",
      "Done.\n",
      "+------------+\n",
      "|   Sport    |\n",
      "+------------+\n",
      "| Basketball |\n",
      "|    Judo    |\n",
      "|  Football  |\n",
      "+------------+\n"
     ]
    }
   ],
   "source": [
    "result = %sql SELECT DISTINCT TOP 3 Sport FROM   athlete_events\n",
    "print(result)"
   ]
  },
  {
   "cell_type": "code",
   "execution_count": 6,
   "id": "b91a2ee1",
   "metadata": {},
   "outputs": [
    {
     "name": "stdout",
     "output_type": "stream",
     "text": [
      " * mssql+pyodbc://@localhost\\SQLEXPRESS/OlympicsHistory?driver=SQL+Server&trusted_connection=yes\n",
      "Done.\n",
      "Returning data to local variable result\n"
     ]
    }
   ],
   "source": [
    "%%sql result <<\n",
    "SELECT TOP 3 year,\n",
    "             Count(CASE\n",
    "                     WHEN Medal = 'Bronze' THEN 1\n",
    "                   END) Bronze,\n",
    "             Count(CASE\n",
    "                     WHEN Medal = 'Silver' THEN 1\n",
    "                   END) Silver,\n",
    "             Count(CASE\n",
    "                     WHEN Medal = 'Gold' THEN 1\n",
    "                   END) Gold\n",
    "FROM   athlete_events\n",
    "GROUP  BY Year\n",
    "ORDER  BY Year "
   ]
  },
  {
   "cell_type": "code",
   "execution_count": 7,
   "id": "76886282",
   "metadata": {},
   "outputs": [
    {
     "name": "stdout",
     "output_type": "stream",
     "text": [
      "+------+--------+--------+------+\n",
      "| year | Bronze | Silver | Gold |\n",
      "+------+--------+--------+------+\n",
      "| 1896 |   38   |   43   |  62  |\n",
      "| 1900 |  175   |  228   | 201  |\n",
      "| 1904 |  150   |  163   | 173  |\n",
      "+------+--------+--------+------+\n"
     ]
    }
   ],
   "source": [
    "print(result)"
   ]
  },
  {
   "cell_type": "markdown",
   "id": "b66d74ca",
   "metadata": {},
   "source": [
    "If have used Python for data analysis, you might say this cool but, it would even nice if we could capture the result of the query as `Pandas` DataFrame! If you had this question in mind, to you I say, it is straight forward to that, have a look:"
   ]
  },
  {
   "cell_type": "code",
   "execution_count": 8,
   "id": "b3b19097",
   "metadata": {},
   "outputs": [
    {
     "name": "stdout",
     "output_type": "stream",
     "text": [
      "   year  Bronze  Silver  Gold\n",
      "0  1896      38      43    62\n",
      "1  1900     175     228   201\n",
      "2  1904     150     163   173\n"
     ]
    }
   ],
   "source": [
    "df = result.DataFrame()\n",
    "print(df)"
   ]
  },
  {
   "cell_type": "code",
   "execution_count": 9,
   "id": "800d1e6d",
   "metadata": {},
   "outputs": [
    {
     "data": {
      "text/plain": [
       "pandas.core.frame.DataFrame"
      ]
     },
     "execution_count": 9,
     "metadata": {},
     "output_type": "execute_result"
    }
   ],
   "source": [
    "type(df)"
   ]
  },
  {
   "cell_type": "code",
   "execution_count": 10,
   "id": "cffabbb4",
   "metadata": {},
   "outputs": [
    {
     "data": {
      "text/html": [
       "<div>\n",
       "<style scoped>\n",
       "    .dataframe tbody tr th:only-of-type {\n",
       "        vertical-align: middle;\n",
       "    }\n",
       "\n",
       "    .dataframe tbody tr th {\n",
       "        vertical-align: top;\n",
       "    }\n",
       "\n",
       "    .dataframe thead th {\n",
       "        text-align: right;\n",
       "    }\n",
       "</style>\n",
       "<table border=\"1\" class=\"dataframe\">\n",
       "  <thead>\n",
       "    <tr style=\"text-align: right;\">\n",
       "      <th></th>\n",
       "      <th>year</th>\n",
       "      <th>Bronze</th>\n",
       "      <th>Silver</th>\n",
       "      <th>Gold</th>\n",
       "    </tr>\n",
       "  </thead>\n",
       "  <tbody>\n",
       "    <tr>\n",
       "      <th>count</th>\n",
       "      <td>3.0</td>\n",
       "      <td>3.000000</td>\n",
       "      <td>3.000000</td>\n",
       "      <td>3.000000</td>\n",
       "    </tr>\n",
       "    <tr>\n",
       "      <th>mean</th>\n",
       "      <td>1900.0</td>\n",
       "      <td>121.000000</td>\n",
       "      <td>144.666667</td>\n",
       "      <td>145.333333</td>\n",
       "    </tr>\n",
       "    <tr>\n",
       "      <th>std</th>\n",
       "      <td>4.0</td>\n",
       "      <td>72.958893</td>\n",
       "      <td>93.852722</td>\n",
       "      <td>73.514171</td>\n",
       "    </tr>\n",
       "    <tr>\n",
       "      <th>min</th>\n",
       "      <td>1896.0</td>\n",
       "      <td>38.000000</td>\n",
       "      <td>43.000000</td>\n",
       "      <td>62.000000</td>\n",
       "    </tr>\n",
       "    <tr>\n",
       "      <th>25%</th>\n",
       "      <td>1898.0</td>\n",
       "      <td>94.000000</td>\n",
       "      <td>103.000000</td>\n",
       "      <td>117.500000</td>\n",
       "    </tr>\n",
       "    <tr>\n",
       "      <th>50%</th>\n",
       "      <td>1900.0</td>\n",
       "      <td>150.000000</td>\n",
       "      <td>163.000000</td>\n",
       "      <td>173.000000</td>\n",
       "    </tr>\n",
       "    <tr>\n",
       "      <th>75%</th>\n",
       "      <td>1902.0</td>\n",
       "      <td>162.500000</td>\n",
       "      <td>195.500000</td>\n",
       "      <td>187.000000</td>\n",
       "    </tr>\n",
       "    <tr>\n",
       "      <th>max</th>\n",
       "      <td>1904.0</td>\n",
       "      <td>175.000000</td>\n",
       "      <td>228.000000</td>\n",
       "      <td>201.000000</td>\n",
       "    </tr>\n",
       "  </tbody>\n",
       "</table>\n",
       "</div>"
      ],
      "text/plain": [
       "         year      Bronze      Silver        Gold\n",
       "count     3.0    3.000000    3.000000    3.000000\n",
       "mean   1900.0  121.000000  144.666667  145.333333\n",
       "std       4.0   72.958893   93.852722   73.514171\n",
       "min    1896.0   38.000000   43.000000   62.000000\n",
       "25%    1898.0   94.000000  103.000000  117.500000\n",
       "50%    1900.0  150.000000  163.000000  173.000000\n",
       "75%    1902.0  162.500000  195.500000  187.000000\n",
       "max    1904.0  175.000000  228.000000  201.000000"
      ]
     },
     "execution_count": 10,
     "metadata": {},
     "output_type": "execute_result"
    }
   ],
   "source": [
    "df.describe()"
   ]
  },
  {
   "cell_type": "markdown",
   "id": "752bf2d2",
   "metadata": {},
   "source": [
    "I hope that you can see the power in what I just demonstrated."
   ]
  },
  {
   "cell_type": "markdown",
   "id": "6ae94967",
   "metadata": {},
   "source": [
    "## Data Analysis using SQL\n",
    "\n",
    "Enough of the preparation, let's into the fun part, analysing the data, asking and answering questions about it.\n",
    "\n",
    "As a first step, let's familiarize ourselves with the two tables we have"
   ]
  },
  {
   "cell_type": "code",
   "execution_count": 11,
   "id": "3753a6df",
   "metadata": {},
   "outputs": [
    {
     "name": "stdout",
     "output_type": "stream",
     "text": [
      " * mssql+pyodbc://@localhost\\SQLEXPRESS/OlympicsHistory?driver=SQL+Server&trusted_connection=yes\n",
      "Done.\n"
     ]
    },
    {
     "data": {
      "text/html": [
       "<table>\n",
       "    <tr>\n",
       "        <th>ID</th>\n",
       "        <th>Name</th>\n",
       "        <th>Sex</th>\n",
       "        <th>Age</th>\n",
       "        <th>Height</th>\n",
       "        <th>Weight</th>\n",
       "        <th>Team</th>\n",
       "        <th>NOC</th>\n",
       "        <th>Games</th>\n",
       "        <th>Year</th>\n",
       "        <th>Season</th>\n",
       "        <th>City</th>\n",
       "        <th>Sport</th>\n",
       "        <th>Event</th>\n",
       "        <th>Medal</th>\n",
       "    </tr>\n",
       "    <tr>\n",
       "        <td>1</td>\n",
       "        <td>A Dijiang</td>\n",
       "        <td>M</td>\n",
       "        <td>24</td>\n",
       "        <td>180</td>\n",
       "        <td>80</td>\n",
       "        <td>China</td>\n",
       "        <td>CHN</td>\n",
       "        <td>1992 Summer</td>\n",
       "        <td>1992</td>\n",
       "        <td>Summer</td>\n",
       "        <td>Barcelona</td>\n",
       "        <td>Basketball</td>\n",
       "        <td>Basketball Men&#x27;s Basketball</td>\n",
       "        <td>NA</td>\n",
       "    </tr>\n",
       "    <tr>\n",
       "        <td>2</td>\n",
       "        <td>A Lamusi</td>\n",
       "        <td>M</td>\n",
       "        <td>23</td>\n",
       "        <td>170</td>\n",
       "        <td>60</td>\n",
       "        <td>China</td>\n",
       "        <td>CHN</td>\n",
       "        <td>2012 Summer</td>\n",
       "        <td>2012</td>\n",
       "        <td>Summer</td>\n",
       "        <td>London</td>\n",
       "        <td>Judo</td>\n",
       "        <td>Judo Men&#x27;s Extra-Lightweight</td>\n",
       "        <td>NA</td>\n",
       "    </tr>\n",
       "    <tr>\n",
       "        <td>3</td>\n",
       "        <td>Gunnar Nielsen Aaby</td>\n",
       "        <td>M</td>\n",
       "        <td>24</td>\n",
       "        <td>NA</td>\n",
       "        <td>NA</td>\n",
       "        <td>Denmark</td>\n",
       "        <td>DEN</td>\n",
       "        <td>1920 Summer</td>\n",
       "        <td>1920</td>\n",
       "        <td>Summer</td>\n",
       "        <td>Antwerpen</td>\n",
       "        <td>Football</td>\n",
       "        <td>Football Men&#x27;s Football</td>\n",
       "        <td>NA</td>\n",
       "    </tr>\n",
       "    <tr>\n",
       "        <td>4</td>\n",
       "        <td>Edgar Lindenau Aabye</td>\n",
       "        <td>M</td>\n",
       "        <td>34</td>\n",
       "        <td>NA</td>\n",
       "        <td>NA</td>\n",
       "        <td>Denmark/Sweden</td>\n",
       "        <td>DEN</td>\n",
       "        <td>1900 Summer</td>\n",
       "        <td>1900</td>\n",
       "        <td>Summer</td>\n",
       "        <td>Paris</td>\n",
       "        <td>Tug-Of-War</td>\n",
       "        <td>Tug-Of-War Men&#x27;s Tug-Of-War</td>\n",
       "        <td>Gold</td>\n",
       "    </tr>\n",
       "    <tr>\n",
       "        <td>5</td>\n",
       "        <td>Christine Jacoba Aaftink</td>\n",
       "        <td>F</td>\n",
       "        <td>21</td>\n",
       "        <td>185</td>\n",
       "        <td>82</td>\n",
       "        <td>Netherlands</td>\n",
       "        <td>NED</td>\n",
       "        <td>1988 Winter</td>\n",
       "        <td>1988</td>\n",
       "        <td>Winter</td>\n",
       "        <td>Calgary</td>\n",
       "        <td>Speed Skating</td>\n",
       "        <td>Speed Skating Women&#x27;s 500 metres</td>\n",
       "        <td>NA</td>\n",
       "    </tr>\n",
       "</table>"
      ],
      "text/plain": [
       "[(1, 'A Dijiang', 'M', '24', '180', '80', 'China', 'CHN', '1992 Summer', 1992, 'Summer', 'Barcelona', 'Basketball', \"Basketball Men's Basketball\", 'NA'),\n",
       " (2, 'A Lamusi', 'M', '23', '170', '60', 'China', 'CHN', '2012 Summer', 2012, 'Summer', 'London', 'Judo', \"Judo Men's Extra-Lightweight\", 'NA'),\n",
       " (3, 'Gunnar Nielsen Aaby', 'M', '24', 'NA', 'NA', 'Denmark', 'DEN', '1920 Summer', 1920, 'Summer', 'Antwerpen', 'Football', \"Football Men's Football\", 'NA'),\n",
       " (4, 'Edgar Lindenau Aabye', 'M', '34', 'NA', 'NA', 'Denmark/Sweden', 'DEN', '1900 Summer', 1900, 'Summer', 'Paris', 'Tug-Of-War', \"Tug-Of-War Men's Tug-Of-War\", 'Gold'),\n",
       " (5, 'Christine Jacoba Aaftink', 'F', '21', '185', '82', 'Netherlands', 'NED', '1988 Winter', 1988, 'Winter', 'Calgary', 'Speed Skating', \"Speed Skating Women's 500 metres\", 'NA')]"
      ]
     },
     "execution_count": 11,
     "metadata": {},
     "output_type": "execute_result"
    }
   ],
   "source": [
    "%sql SELECT TOP 5 * FROM   athlete_events "
   ]
  },
  {
   "cell_type": "code",
   "execution_count": 12,
   "id": "1f5e5299",
   "metadata": {},
   "outputs": [
    {
     "name": "stdout",
     "output_type": "stream",
     "text": [
      " * mssql+pyodbc://@localhost\\SQLEXPRESS/OlympicsHistory?driver=SQL+Server&trusted_connection=yes\n",
      "Done.\n"
     ]
    },
    {
     "data": {
      "text/html": [
       "<table>\n",
       "    <tr>\n",
       "        <th>NOC</th>\n",
       "        <th>region</th>\n",
       "        <th>notes</th>\n",
       "    </tr>\n",
       "    <tr>\n",
       "        <td>AFG</td>\n",
       "        <td>Afghanistan</td>\n",
       "        <td>None</td>\n",
       "    </tr>\n",
       "    <tr>\n",
       "        <td>AHO</td>\n",
       "        <td>Curacao</td>\n",
       "        <td>Netherlands Antilles</td>\n",
       "    </tr>\n",
       "    <tr>\n",
       "        <td>ALB</td>\n",
       "        <td>Albania</td>\n",
       "        <td>None</td>\n",
       "    </tr>\n",
       "    <tr>\n",
       "        <td>ALG</td>\n",
       "        <td>Algeria</td>\n",
       "        <td>None</td>\n",
       "    </tr>\n",
       "    <tr>\n",
       "        <td>AND</td>\n",
       "        <td>Andorra</td>\n",
       "        <td>None</td>\n",
       "    </tr>\n",
       "</table>"
      ],
      "text/plain": [
       "[('AFG', 'Afghanistan', None),\n",
       " ('AHO', 'Curacao', 'Netherlands Antilles'),\n",
       " ('ALB', 'Albania', None),\n",
       " ('ALG', 'Algeria', None),\n",
       " ('AND', 'Andorra', None)]"
      ]
     },
     "execution_count": 12,
     "metadata": {},
     "output_type": "execute_result"
    }
   ],
   "source": [
    "%sql SELECT TOP 5 * FROM   noc_regions "
   ]
  },
  {
   "cell_type": "code",
   "execution_count": 13,
   "id": "f98ce660",
   "metadata": {},
   "outputs": [
    {
     "name": "stdout",
     "output_type": "stream",
     "text": [
      " * mssql+pyodbc://@localhost\\SQLEXPRESS/OlympicsHistory?driver=SQL+Server&trusted_connection=yes\n",
      "Done.\n"
     ]
    },
    {
     "data": {
      "text/html": [
       "<table>\n",
       "    <tr>\n",
       "        <th>noc</th>\n",
       "    </tr>\n",
       "    <tr>\n",
       "        <td>SGP</td>\n",
       "    </tr>\n",
       "</table>"
      ],
      "text/plain": [
       "[('SGP',)]"
      ]
     },
     "execution_count": 13,
     "metadata": {},
     "output_type": "execute_result"
    }
   ],
   "source": [
    "%%sql \n",
    "SELECT DISTINCT athlete_events.noc\n",
    "FROM   athlete_events\n",
    "       LEFT JOIN noc_regions\n",
    "              ON athlete_events.noc = noc_regions.noc\n",
    "WHERE  region IS NULL "
   ]
  },
  {
   "cell_type": "markdown",
   "id": "6f72e116",
   "metadata": {},
   "source": [
    "Looking up `SGP` reveals that this is the code for [Singapore](https://olympics.com/ioc/singapore). This begs the question, why was this code missing from the `noc_regions` table? Let's further investigate this table"
   ]
  },
  {
   "cell_type": "code",
   "execution_count": 14,
   "id": "1223a5bc",
   "metadata": {},
   "outputs": [
    {
     "name": "stdout",
     "output_type": "stream",
     "text": [
      " * mssql+pyodbc://@localhost\\SQLEXPRESS/OlympicsHistory?driver=SQL+Server&trusted_connection=yes\n",
      "Done.\n"
     ]
    },
    {
     "data": {
      "text/html": [
       "<table>\n",
       "    <tr>\n",
       "        <th>NOC</th>\n",
       "        <th>region</th>\n",
       "        <th>notes</th>\n",
       "    </tr>\n",
       "    <tr>\n",
       "        <td>SIN</td>\n",
       "        <td>Singapore</td>\n",
       "        <td>None</td>\n",
       "    </tr>\n",
       "</table>"
      ],
      "text/plain": [
       "[('SIN', 'Singapore', None)]"
      ]
     },
     "execution_count": 14,
     "metadata": {},
     "output_type": "execute_result"
    }
   ],
   "source": [
    "%%sql\n",
    "SELECT *\n",
    "FROM   noc_regions\n",
    "WHERE  region LIKE '%pore' "
   ]
  },
  {
   "cell_type": "markdown",
   "id": "ca2cc637",
   "metadata": {},
   "source": [
    "Let's further investigate the `athlete_events` table for instances of the codes `SIN` and `SGP` "
   ]
  },
  {
   "cell_type": "code",
   "execution_count": 15,
   "id": "3d339931",
   "metadata": {},
   "outputs": [
    {
     "name": "stdout",
     "output_type": "stream",
     "text": [
      " * mssql+pyodbc://@localhost\\SQLEXPRESS/OlympicsHistory?driver=SQL+Server&trusted_connection=yes\n",
      "Done.\n"
     ]
    },
    {
     "data": {
      "text/html": [
       "<table>\n",
       "    <tr>\n",
       "        <th>team</th>\n",
       "        <th>noc</th>\n",
       "    </tr>\n",
       "    <tr>\n",
       "        <td>June Climene</td>\n",
       "        <td>SGP</td>\n",
       "    </tr>\n",
       "    <tr>\n",
       "        <td>Rika II</td>\n",
       "        <td>SGP</td>\n",
       "    </tr>\n",
       "    <tr>\n",
       "        <td>Singapore</td>\n",
       "        <td>SGP</td>\n",
       "    </tr>\n",
       "    <tr>\n",
       "        <td>Singapore-1</td>\n",
       "        <td>SGP</td>\n",
       "    </tr>\n",
       "    <tr>\n",
       "        <td>Singapore-2</td>\n",
       "        <td>SGP</td>\n",
       "    </tr>\n",
       "</table>"
      ],
      "text/plain": [
       "[('June Climene', 'SGP'),\n",
       " ('Rika II', 'SGP'),\n",
       " ('Singapore', 'SGP'),\n",
       " ('Singapore-1', 'SGP'),\n",
       " ('Singapore-2', 'SGP')]"
      ]
     },
     "execution_count": 15,
     "metadata": {},
     "output_type": "execute_result"
    }
   ],
   "source": [
    "%%sql\n",
    "SELECT DISTINCT team,\n",
    "                noc\n",
    "FROM   athlete_events\n",
    "WHERE  team LIKE '%pore'\n",
    "        OR noc = 'SGP'\n",
    "        OR noc = 'SIN' "
   ]
  },
  {
   "cell_type": "markdown",
   "id": "0d3eea71",
   "metadata": {},
   "source": [
    "Ok, so the code `SIN` has never been used in the `athlete_events`. A quick [web search](https://www.facebook.com/sgolympics/photos/a.1591488417735290/1747292968821500/?type=3) revealed that `SGP` has replaced `SIN` in 2016.\n",
    "\n",
    "In this case, I think, it would be a good idea to keep both codes in the `noc_regions` table. Let's add `SGP`"
   ]
  },
  {
   "cell_type": "code",
   "execution_count": 16,
   "id": "7a2b3188",
   "metadata": {
    "collapsed": true
   },
   "outputs": [
    {
     "name": "stdout",
     "output_type": "stream",
     "text": [
      " * mssql+pyodbc://@localhost\\SQLEXPRESS/OlympicsHistory?driver=SQL+Server&trusted_connection=yes\n",
      "1 rows affected.\n"
     ]
    },
    {
     "ename": "ResourceClosedError",
     "evalue": "This result object does not return rows. It has been closed automatically.",
     "output_type": "error",
     "traceback": [
      "\u001b[1;31m---------------------------------------------------------------------------\u001b[0m",
      "\u001b[1;31mResourceClosedError\u001b[0m                       Traceback (most recent call last)",
      "\u001b[1;32m<ipython-input-16-a053653f5b5d>\u001b[0m in \u001b[0;36m<module>\u001b[1;34m\u001b[0m\n\u001b[1;32m----> 1\u001b[1;33m \u001b[0mget_ipython\u001b[0m\u001b[1;33m(\u001b[0m\u001b[1;33m)\u001b[0m\u001b[1;33m.\u001b[0m\u001b[0mrun_cell_magic\u001b[0m\u001b[1;33m(\u001b[0m\u001b[1;34m'sql'\u001b[0m\u001b[1;33m,\u001b[0m \u001b[1;34m''\u001b[0m\u001b[1;33m,\u001b[0m \u001b[1;34m\"IF NOT EXISTS (SELECT *\\n               FROM   noc_regions\\n               WHERE  noc = 'SGP')\\n  INSERT INTO noc_regions\\n  VALUES      ('SGP',\\n               'Singapore',\\n               'Added by Waseem') \\n\"\u001b[0m\u001b[1;33m)\u001b[0m\u001b[1;33m\u001b[0m\u001b[1;33m\u001b[0m\u001b[0m\n\u001b[0m",
      "\u001b[1;32m~\\anaconda3\\lib\\site-packages\\IPython\\core\\interactiveshell.py\u001b[0m in \u001b[0;36mrun_cell_magic\u001b[1;34m(self, magic_name, line, cell)\u001b[0m\n\u001b[0;32m   2397\u001b[0m             \u001b[1;32mwith\u001b[0m \u001b[0mself\u001b[0m\u001b[1;33m.\u001b[0m\u001b[0mbuiltin_trap\u001b[0m\u001b[1;33m:\u001b[0m\u001b[1;33m\u001b[0m\u001b[1;33m\u001b[0m\u001b[0m\n\u001b[0;32m   2398\u001b[0m                 \u001b[0margs\u001b[0m \u001b[1;33m=\u001b[0m \u001b[1;33m(\u001b[0m\u001b[0mmagic_arg_s\u001b[0m\u001b[1;33m,\u001b[0m \u001b[0mcell\u001b[0m\u001b[1;33m)\u001b[0m\u001b[1;33m\u001b[0m\u001b[1;33m\u001b[0m\u001b[0m\n\u001b[1;32m-> 2399\u001b[1;33m                 \u001b[0mresult\u001b[0m \u001b[1;33m=\u001b[0m \u001b[0mfn\u001b[0m\u001b[1;33m(\u001b[0m\u001b[1;33m*\u001b[0m\u001b[0margs\u001b[0m\u001b[1;33m,\u001b[0m \u001b[1;33m**\u001b[0m\u001b[0mkwargs\u001b[0m\u001b[1;33m)\u001b[0m\u001b[1;33m\u001b[0m\u001b[1;33m\u001b[0m\u001b[0m\n\u001b[0m\u001b[0;32m   2400\u001b[0m             \u001b[1;32mreturn\u001b[0m \u001b[0mresult\u001b[0m\u001b[1;33m\u001b[0m\u001b[1;33m\u001b[0m\u001b[0m\n\u001b[0;32m   2401\u001b[0m \u001b[1;33m\u001b[0m\u001b[0m\n",
      "\u001b[1;32m~\\anaconda3\\lib\\site-packages\\decorator.py\u001b[0m in \u001b[0;36mfun\u001b[1;34m(*args, **kw)\u001b[0m\n\u001b[0;32m    229\u001b[0m             \u001b[1;32mif\u001b[0m \u001b[1;32mnot\u001b[0m \u001b[0mkwsyntax\u001b[0m\u001b[1;33m:\u001b[0m\u001b[1;33m\u001b[0m\u001b[1;33m\u001b[0m\u001b[0m\n\u001b[0;32m    230\u001b[0m                 \u001b[0margs\u001b[0m\u001b[1;33m,\u001b[0m \u001b[0mkw\u001b[0m \u001b[1;33m=\u001b[0m \u001b[0mfix\u001b[0m\u001b[1;33m(\u001b[0m\u001b[0margs\u001b[0m\u001b[1;33m,\u001b[0m \u001b[0mkw\u001b[0m\u001b[1;33m,\u001b[0m \u001b[0msig\u001b[0m\u001b[1;33m)\u001b[0m\u001b[1;33m\u001b[0m\u001b[1;33m\u001b[0m\u001b[0m\n\u001b[1;32m--> 231\u001b[1;33m             \u001b[1;32mreturn\u001b[0m \u001b[0mcaller\u001b[0m\u001b[1;33m(\u001b[0m\u001b[0mfunc\u001b[0m\u001b[1;33m,\u001b[0m \u001b[1;33m*\u001b[0m\u001b[1;33m(\u001b[0m\u001b[0mextras\u001b[0m \u001b[1;33m+\u001b[0m \u001b[0margs\u001b[0m\u001b[1;33m)\u001b[0m\u001b[1;33m,\u001b[0m \u001b[1;33m**\u001b[0m\u001b[0mkw\u001b[0m\u001b[1;33m)\u001b[0m\u001b[1;33m\u001b[0m\u001b[1;33m\u001b[0m\u001b[0m\n\u001b[0m\u001b[0;32m    232\u001b[0m     \u001b[0mfun\u001b[0m\u001b[1;33m.\u001b[0m\u001b[0m__name__\u001b[0m \u001b[1;33m=\u001b[0m \u001b[0mfunc\u001b[0m\u001b[1;33m.\u001b[0m\u001b[0m__name__\u001b[0m\u001b[1;33m\u001b[0m\u001b[1;33m\u001b[0m\u001b[0m\n\u001b[0;32m    233\u001b[0m     \u001b[0mfun\u001b[0m\u001b[1;33m.\u001b[0m\u001b[0m__doc__\u001b[0m \u001b[1;33m=\u001b[0m \u001b[0mfunc\u001b[0m\u001b[1;33m.\u001b[0m\u001b[0m__doc__\u001b[0m\u001b[1;33m\u001b[0m\u001b[1;33m\u001b[0m\u001b[0m\n",
      "\u001b[1;32m~\\anaconda3\\lib\\site-packages\\IPython\\core\\magic.py\u001b[0m in \u001b[0;36m<lambda>\u001b[1;34m(f, *a, **k)\u001b[0m\n\u001b[0;32m    185\u001b[0m     \u001b[1;31m# but it's overkill for just that one bit of state.\u001b[0m\u001b[1;33m\u001b[0m\u001b[1;33m\u001b[0m\u001b[1;33m\u001b[0m\u001b[0m\n\u001b[0;32m    186\u001b[0m     \u001b[1;32mdef\u001b[0m \u001b[0mmagic_deco\u001b[0m\u001b[1;33m(\u001b[0m\u001b[0marg\u001b[0m\u001b[1;33m)\u001b[0m\u001b[1;33m:\u001b[0m\u001b[1;33m\u001b[0m\u001b[1;33m\u001b[0m\u001b[0m\n\u001b[1;32m--> 187\u001b[1;33m         \u001b[0mcall\u001b[0m \u001b[1;33m=\u001b[0m \u001b[1;32mlambda\u001b[0m \u001b[0mf\u001b[0m\u001b[1;33m,\u001b[0m \u001b[1;33m*\u001b[0m\u001b[0ma\u001b[0m\u001b[1;33m,\u001b[0m \u001b[1;33m**\u001b[0m\u001b[0mk\u001b[0m\u001b[1;33m:\u001b[0m \u001b[0mf\u001b[0m\u001b[1;33m(\u001b[0m\u001b[1;33m*\u001b[0m\u001b[0ma\u001b[0m\u001b[1;33m,\u001b[0m \u001b[1;33m**\u001b[0m\u001b[0mk\u001b[0m\u001b[1;33m)\u001b[0m\u001b[1;33m\u001b[0m\u001b[1;33m\u001b[0m\u001b[0m\n\u001b[0m\u001b[0;32m    188\u001b[0m \u001b[1;33m\u001b[0m\u001b[0m\n\u001b[0;32m    189\u001b[0m         \u001b[1;32mif\u001b[0m \u001b[0mcallable\u001b[0m\u001b[1;33m(\u001b[0m\u001b[0marg\u001b[0m\u001b[1;33m)\u001b[0m\u001b[1;33m:\u001b[0m\u001b[1;33m\u001b[0m\u001b[1;33m\u001b[0m\u001b[0m\n",
      "\u001b[1;32m~\\anaconda3\\lib\\site-packages\\decorator.py\u001b[0m in \u001b[0;36mfun\u001b[1;34m(*args, **kw)\u001b[0m\n\u001b[0;32m    229\u001b[0m             \u001b[1;32mif\u001b[0m \u001b[1;32mnot\u001b[0m \u001b[0mkwsyntax\u001b[0m\u001b[1;33m:\u001b[0m\u001b[1;33m\u001b[0m\u001b[1;33m\u001b[0m\u001b[0m\n\u001b[0;32m    230\u001b[0m                 \u001b[0margs\u001b[0m\u001b[1;33m,\u001b[0m \u001b[0mkw\u001b[0m \u001b[1;33m=\u001b[0m \u001b[0mfix\u001b[0m\u001b[1;33m(\u001b[0m\u001b[0margs\u001b[0m\u001b[1;33m,\u001b[0m \u001b[0mkw\u001b[0m\u001b[1;33m,\u001b[0m \u001b[0msig\u001b[0m\u001b[1;33m)\u001b[0m\u001b[1;33m\u001b[0m\u001b[1;33m\u001b[0m\u001b[0m\n\u001b[1;32m--> 231\u001b[1;33m             \u001b[1;32mreturn\u001b[0m \u001b[0mcaller\u001b[0m\u001b[1;33m(\u001b[0m\u001b[0mfunc\u001b[0m\u001b[1;33m,\u001b[0m \u001b[1;33m*\u001b[0m\u001b[1;33m(\u001b[0m\u001b[0mextras\u001b[0m \u001b[1;33m+\u001b[0m \u001b[0margs\u001b[0m\u001b[1;33m)\u001b[0m\u001b[1;33m,\u001b[0m \u001b[1;33m**\u001b[0m\u001b[0mkw\u001b[0m\u001b[1;33m)\u001b[0m\u001b[1;33m\u001b[0m\u001b[1;33m\u001b[0m\u001b[0m\n\u001b[0m\u001b[0;32m    232\u001b[0m     \u001b[0mfun\u001b[0m\u001b[1;33m.\u001b[0m\u001b[0m__name__\u001b[0m \u001b[1;33m=\u001b[0m \u001b[0mfunc\u001b[0m\u001b[1;33m.\u001b[0m\u001b[0m__name__\u001b[0m\u001b[1;33m\u001b[0m\u001b[1;33m\u001b[0m\u001b[0m\n\u001b[0;32m    233\u001b[0m     \u001b[0mfun\u001b[0m\u001b[1;33m.\u001b[0m\u001b[0m__doc__\u001b[0m \u001b[1;33m=\u001b[0m \u001b[0mfunc\u001b[0m\u001b[1;33m.\u001b[0m\u001b[0m__doc__\u001b[0m\u001b[1;33m\u001b[0m\u001b[1;33m\u001b[0m\u001b[0m\n",
      "\u001b[1;32m~\\anaconda3\\lib\\site-packages\\IPython\\core\\magic.py\u001b[0m in \u001b[0;36m<lambda>\u001b[1;34m(f, *a, **k)\u001b[0m\n\u001b[0;32m    185\u001b[0m     \u001b[1;31m# but it's overkill for just that one bit of state.\u001b[0m\u001b[1;33m\u001b[0m\u001b[1;33m\u001b[0m\u001b[1;33m\u001b[0m\u001b[0m\n\u001b[0;32m    186\u001b[0m     \u001b[1;32mdef\u001b[0m \u001b[0mmagic_deco\u001b[0m\u001b[1;33m(\u001b[0m\u001b[0marg\u001b[0m\u001b[1;33m)\u001b[0m\u001b[1;33m:\u001b[0m\u001b[1;33m\u001b[0m\u001b[1;33m\u001b[0m\u001b[0m\n\u001b[1;32m--> 187\u001b[1;33m         \u001b[0mcall\u001b[0m \u001b[1;33m=\u001b[0m \u001b[1;32mlambda\u001b[0m \u001b[0mf\u001b[0m\u001b[1;33m,\u001b[0m \u001b[1;33m*\u001b[0m\u001b[0ma\u001b[0m\u001b[1;33m,\u001b[0m \u001b[1;33m**\u001b[0m\u001b[0mk\u001b[0m\u001b[1;33m:\u001b[0m \u001b[0mf\u001b[0m\u001b[1;33m(\u001b[0m\u001b[1;33m*\u001b[0m\u001b[0ma\u001b[0m\u001b[1;33m,\u001b[0m \u001b[1;33m**\u001b[0m\u001b[0mk\u001b[0m\u001b[1;33m)\u001b[0m\u001b[1;33m\u001b[0m\u001b[1;33m\u001b[0m\u001b[0m\n\u001b[0m\u001b[0;32m    188\u001b[0m \u001b[1;33m\u001b[0m\u001b[0m\n\u001b[0;32m    189\u001b[0m         \u001b[1;32mif\u001b[0m \u001b[0mcallable\u001b[0m\u001b[1;33m(\u001b[0m\u001b[0marg\u001b[0m\u001b[1;33m)\u001b[0m\u001b[1;33m:\u001b[0m\u001b[1;33m\u001b[0m\u001b[1;33m\u001b[0m\u001b[0m\n",
      "\u001b[1;32m~\\anaconda3\\lib\\site-packages\\sql\\magic.py\u001b[0m in \u001b[0;36mexecute\u001b[1;34m(self, line, cell, local_ns)\u001b[0m\n\u001b[0;32m    215\u001b[0m \u001b[1;33m\u001b[0m\u001b[0m\n\u001b[0;32m    216\u001b[0m         \u001b[1;32mtry\u001b[0m\u001b[1;33m:\u001b[0m\u001b[1;33m\u001b[0m\u001b[1;33m\u001b[0m\u001b[0m\n\u001b[1;32m--> 217\u001b[1;33m             \u001b[0mresult\u001b[0m \u001b[1;33m=\u001b[0m \u001b[0msql\u001b[0m\u001b[1;33m.\u001b[0m\u001b[0mrun\u001b[0m\u001b[1;33m.\u001b[0m\u001b[0mrun\u001b[0m\u001b[1;33m(\u001b[0m\u001b[0mconn\u001b[0m\u001b[1;33m,\u001b[0m \u001b[0mparsed\u001b[0m\u001b[1;33m[\u001b[0m\u001b[1;34m\"sql\"\u001b[0m\u001b[1;33m]\u001b[0m\u001b[1;33m,\u001b[0m \u001b[0mself\u001b[0m\u001b[1;33m,\u001b[0m \u001b[0muser_ns\u001b[0m\u001b[1;33m)\u001b[0m\u001b[1;33m\u001b[0m\u001b[1;33m\u001b[0m\u001b[0m\n\u001b[0m\u001b[0;32m    218\u001b[0m \u001b[1;33m\u001b[0m\u001b[0m\n\u001b[0;32m    219\u001b[0m             if (\n",
      "\u001b[1;32m~\\anaconda3\\lib\\site-packages\\sql\\run.py\u001b[0m in \u001b[0;36mrun\u001b[1;34m(conn, sql, config, user_namespace)\u001b[0m\n\u001b[0;32m    369\u001b[0m             \u001b[1;32mif\u001b[0m \u001b[0mresult\u001b[0m \u001b[1;32mand\u001b[0m \u001b[0mconfig\u001b[0m\u001b[1;33m.\u001b[0m\u001b[0mfeedback\u001b[0m\u001b[1;33m:\u001b[0m\u001b[1;33m\u001b[0m\u001b[1;33m\u001b[0m\u001b[0m\n\u001b[0;32m    370\u001b[0m                 \u001b[0mprint\u001b[0m\u001b[1;33m(\u001b[0m\u001b[0minterpret_rowcount\u001b[0m\u001b[1;33m(\u001b[0m\u001b[0mresult\u001b[0m\u001b[1;33m.\u001b[0m\u001b[0mrowcount\u001b[0m\u001b[1;33m)\u001b[0m\u001b[1;33m)\u001b[0m\u001b[1;33m\u001b[0m\u001b[1;33m\u001b[0m\u001b[0m\n\u001b[1;32m--> 371\u001b[1;33m         \u001b[0mresultset\u001b[0m \u001b[1;33m=\u001b[0m \u001b[0mResultSet\u001b[0m\u001b[1;33m(\u001b[0m\u001b[0mresult\u001b[0m\u001b[1;33m,\u001b[0m \u001b[0mstatement\u001b[0m\u001b[1;33m,\u001b[0m \u001b[0mconfig\u001b[0m\u001b[1;33m)\u001b[0m\u001b[1;33m\u001b[0m\u001b[1;33m\u001b[0m\u001b[0m\n\u001b[0m\u001b[0;32m    372\u001b[0m         \u001b[1;32mif\u001b[0m \u001b[0mconfig\u001b[0m\u001b[1;33m.\u001b[0m\u001b[0mautopandas\u001b[0m\u001b[1;33m:\u001b[0m\u001b[1;33m\u001b[0m\u001b[1;33m\u001b[0m\u001b[0m\n\u001b[0;32m    373\u001b[0m             \u001b[1;32mreturn\u001b[0m \u001b[0mresultset\u001b[0m\u001b[1;33m.\u001b[0m\u001b[0mDataFrame\u001b[0m\u001b[1;33m(\u001b[0m\u001b[1;33m)\u001b[0m\u001b[1;33m\u001b[0m\u001b[1;33m\u001b[0m\u001b[0m\n",
      "\u001b[1;32m~\\anaconda3\\lib\\site-packages\\sql\\run.py\u001b[0m in \u001b[0;36m__init__\u001b[1;34m(self, sqlaproxy, sql, config)\u001b[0m\n\u001b[0;32m    105\u001b[0m \u001b[1;33m\u001b[0m\u001b[0m\n\u001b[0;32m    106\u001b[0m     \u001b[1;32mdef\u001b[0m \u001b[0m__init__\u001b[0m\u001b[1;33m(\u001b[0m\u001b[0mself\u001b[0m\u001b[1;33m,\u001b[0m \u001b[0msqlaproxy\u001b[0m\u001b[1;33m,\u001b[0m \u001b[0msql\u001b[0m\u001b[1;33m,\u001b[0m \u001b[0mconfig\u001b[0m\u001b[1;33m)\u001b[0m\u001b[1;33m:\u001b[0m\u001b[1;33m\u001b[0m\u001b[1;33m\u001b[0m\u001b[0m\n\u001b[1;32m--> 107\u001b[1;33m         \u001b[0mself\u001b[0m\u001b[1;33m.\u001b[0m\u001b[0mkeys\u001b[0m \u001b[1;33m=\u001b[0m \u001b[0msqlaproxy\u001b[0m\u001b[1;33m.\u001b[0m\u001b[0mkeys\u001b[0m\u001b[1;33m(\u001b[0m\u001b[1;33m)\u001b[0m\u001b[1;33m\u001b[0m\u001b[1;33m\u001b[0m\u001b[0m\n\u001b[0m\u001b[0;32m    108\u001b[0m         \u001b[0mself\u001b[0m\u001b[1;33m.\u001b[0m\u001b[0msql\u001b[0m \u001b[1;33m=\u001b[0m \u001b[0msql\u001b[0m\u001b[1;33m\u001b[0m\u001b[1;33m\u001b[0m\u001b[0m\n\u001b[0;32m    109\u001b[0m         \u001b[0mself\u001b[0m\u001b[1;33m.\u001b[0m\u001b[0mconfig\u001b[0m \u001b[1;33m=\u001b[0m \u001b[0mconfig\u001b[0m\u001b[1;33m\u001b[0m\u001b[1;33m\u001b[0m\u001b[0m\n",
      "\u001b[1;32m~\\anaconda3\\lib\\site-packages\\sqlalchemy\\engine\\result.py\u001b[0m in \u001b[0;36mkeys\u001b[1;34m(self)\u001b[0m\n\u001b[0;32m    705\u001b[0m \u001b[1;33m\u001b[0m\u001b[0m\n\u001b[0;32m    706\u001b[0m         \"\"\"\n\u001b[1;32m--> 707\u001b[1;33m         \u001b[1;32mreturn\u001b[0m \u001b[0mself\u001b[0m\u001b[1;33m.\u001b[0m\u001b[0m_metadata\u001b[0m\u001b[1;33m.\u001b[0m\u001b[0mkeys\u001b[0m\u001b[1;33m\u001b[0m\u001b[1;33m\u001b[0m\u001b[0m\n\u001b[0m\u001b[0;32m    708\u001b[0m \u001b[1;33m\u001b[0m\u001b[0m\n\u001b[0;32m    709\u001b[0m \u001b[1;33m\u001b[0m\u001b[0m\n",
      "\u001b[1;32m~\\anaconda3\\lib\\site-packages\\sqlalchemy\\engine\\cursor.py\u001b[0m in \u001b[0;36mkeys\u001b[1;34m(self)\u001b[0m\n\u001b[0;32m   1199\u001b[0m     \u001b[1;33m@\u001b[0m\u001b[0mproperty\u001b[0m\u001b[1;33m\u001b[0m\u001b[1;33m\u001b[0m\u001b[0m\n\u001b[0;32m   1200\u001b[0m     \u001b[1;32mdef\u001b[0m \u001b[0mkeys\u001b[0m\u001b[1;33m(\u001b[0m\u001b[0mself\u001b[0m\u001b[1;33m)\u001b[0m\u001b[1;33m:\u001b[0m\u001b[1;33m\u001b[0m\u001b[1;33m\u001b[0m\u001b[0m\n\u001b[1;32m-> 1201\u001b[1;33m         \u001b[0mself\u001b[0m\u001b[1;33m.\u001b[0m\u001b[0m_we_dont_return_rows\u001b[0m\u001b[1;33m(\u001b[0m\u001b[1;33m)\u001b[0m\u001b[1;33m\u001b[0m\u001b[1;33m\u001b[0m\u001b[0m\n\u001b[0m\u001b[0;32m   1202\u001b[0m \u001b[1;33m\u001b[0m\u001b[0m\n\u001b[0;32m   1203\u001b[0m \u001b[1;33m\u001b[0m\u001b[0m\n",
      "\u001b[1;32m~\\anaconda3\\lib\\site-packages\\sqlalchemy\\engine\\cursor.py\u001b[0m in \u001b[0;36m_we_dont_return_rows\u001b[1;34m(self, err)\u001b[0m\n\u001b[0;32m   1176\u001b[0m \u001b[1;33m\u001b[0m\u001b[0m\n\u001b[0;32m   1177\u001b[0m     \u001b[1;32mdef\u001b[0m \u001b[0m_we_dont_return_rows\u001b[0m\u001b[1;33m(\u001b[0m\u001b[0mself\u001b[0m\u001b[1;33m,\u001b[0m \u001b[0merr\u001b[0m\u001b[1;33m=\u001b[0m\u001b[1;32mNone\u001b[0m\u001b[1;33m)\u001b[0m\u001b[1;33m:\u001b[0m\u001b[1;33m\u001b[0m\u001b[1;33m\u001b[0m\u001b[0m\n\u001b[1;32m-> 1178\u001b[1;33m         util.raise_(\n\u001b[0m\u001b[0;32m   1179\u001b[0m             exc.ResourceClosedError(\n\u001b[0;32m   1180\u001b[0m                 \u001b[1;34m\"This result object does not return rows. \"\u001b[0m\u001b[1;33m\u001b[0m\u001b[1;33m\u001b[0m\u001b[0m\n",
      "\u001b[1;32m~\\anaconda3\\lib\\site-packages\\sqlalchemy\\util\\compat.py\u001b[0m in \u001b[0;36mraise_\u001b[1;34m(***failed resolving arguments***)\u001b[0m\n\u001b[0;32m    209\u001b[0m \u001b[1;33m\u001b[0m\u001b[0m\n\u001b[0;32m    210\u001b[0m         \u001b[1;32mtry\u001b[0m\u001b[1;33m:\u001b[0m\u001b[1;33m\u001b[0m\u001b[1;33m\u001b[0m\u001b[0m\n\u001b[1;32m--> 211\u001b[1;33m             \u001b[1;32mraise\u001b[0m \u001b[0mexception\u001b[0m\u001b[1;33m\u001b[0m\u001b[1;33m\u001b[0m\u001b[0m\n\u001b[0m\u001b[0;32m    212\u001b[0m         \u001b[1;32mfinally\u001b[0m\u001b[1;33m:\u001b[0m\u001b[1;33m\u001b[0m\u001b[1;33m\u001b[0m\u001b[0m\n\u001b[0;32m    213\u001b[0m             \u001b[1;31m# credit to\u001b[0m\u001b[1;33m\u001b[0m\u001b[1;33m\u001b[0m\u001b[1;33m\u001b[0m\u001b[0m\n",
      "\u001b[1;31mResourceClosedError\u001b[0m: This result object does not return rows. It has been closed automatically."
     ]
    }
   ],
   "source": [
    "#collapse_output\n",
    "%%sql \n",
    "IF NOT EXISTS (SELECT *\n",
    "               FROM   noc_regions\n",
    "               WHERE  noc = 'SGP')\n",
    "  INSERT INTO noc_regions\n",
    "  VALUES      ('SGP',\n",
    "               'Singapore',\n",
    "               'Added by Waseem') "
   ]
  },
  {
   "cell_type": "markdown",
   "id": "da693dd3",
   "metadata": {},
   "source": [
    "There seems to be a bug in `SQLAlchemy` which makes ealier SQL code error. We can safely ignore this error as the code seems to be doing what is supposed to do, let's verify:"
   ]
  },
  {
   "cell_type": "code",
   "execution_count": 17,
   "id": "ffc1da33",
   "metadata": {},
   "outputs": [
    {
     "name": "stdout",
     "output_type": "stream",
     "text": [
      " * mssql+pyodbc://@localhost\\SQLEXPRESS/OlympicsHistory?driver=SQL+Server&trusted_connection=yes\n",
      "Done.\n"
     ]
    },
    {
     "data": {
      "text/html": [
       "<table>\n",
       "    <tr>\n",
       "        <th>NOC</th>\n",
       "        <th>region</th>\n",
       "        <th>notes</th>\n",
       "    </tr>\n",
       "    <tr>\n",
       "        <td>SGP</td>\n",
       "        <td>Singapore</td>\n",
       "        <td>Added by Waseem</td>\n",
       "    </tr>\n",
       "</table>"
      ],
      "text/plain": [
       "[('SGP', 'Singapore', 'Added by Waseem')]"
      ]
     },
     "execution_count": 17,
     "metadata": {},
     "output_type": "execute_result"
    }
   ],
   "source": [
    "%%sql\n",
    "SELECT *\n",
    "FROM   noc_regions\n",
    "WHERE  noc = 'SGP' "
   ]
  },
  {
   "cell_type": "markdown",
   "id": "a85d1af5",
   "metadata": {},
   "source": [
    "We can now perform joins without any `NULL`s.\n",
    "\n",
    "Let's begin with the data interrogation:"
   ]
  },
  {
   "cell_type": "markdown",
   "id": "0d6faf38",
   "metadata": {},
   "source": [
    "#### Which cities host the Olympics more that once?"
   ]
  },
  {
   "cell_type": "code",
   "execution_count": 18,
   "id": "e81b4605",
   "metadata": {},
   "outputs": [
    {
     "name": "stdout",
     "output_type": "stream",
     "text": [
      " * mssql+pyodbc://@localhost\\SQLEXPRESS/OlympicsHistory?driver=SQL+Server&trusted_connection=yes\n",
      "Done.\n",
      "Returning data to local variable cities\n"
     ]
    }
   ],
   "source": [
    "%%sql cities << \n",
    "SELECT City,\n",
    "       Count(Year) AS NumTimes\n",
    "FROM   (SELECT DISTINCT year,\n",
    "                        city\n",
    "        FROM   athlete_events) city\n",
    "GROUP  BY city\n",
    "HAVING Count(year) > 1\n",
    "ORDER  BY numtimes DESC "
   ]
  },
  {
   "cell_type": "code",
   "execution_count": 19,
   "id": "9b023765",
   "metadata": {},
   "outputs": [
    {
     "data": {
      "text/plain": [
       "<AxesSubplot:xlabel='City'>"
      ]
     },
     "execution_count": 19,
     "metadata": {},
     "output_type": "execute_result"
    },
    {
     "data": {
      "image/png": "[encoded data removed]",
      "text/plain": [
       "<Figure size 432x288 with 1 Axes>"
      ]
     },
     "metadata": {
      "needs_background": "light"
     },
     "output_type": "display_data"
    }
   ],
   "source": [
    "cities_df = cities.DataFrame()\n",
    "cities_df.plot.bar(x='City', y='NumTimes')"
   ]
  },
  {
   "cell_type": "code",
   "execution_count": 20,
   "id": "57850b02",
   "metadata": {
    "collapsed": true
   },
   "outputs": [
    {
     "name": "stdout",
     "output_type": "stream",
     "text": [
      " * mssql+pyodbc://@localhost\\SQLEXPRESS/OlympicsHistory?driver=SQL+Server&trusted_connection=yes\n",
      "Done.\n"
     ]
    },
    {
     "ename": "ResourceClosedError",
     "evalue": "This result object does not return rows. It has been closed automatically.",
     "output_type": "error",
     "traceback": [
      "\u001b[1;31m---------------------------------------------------------------------------\u001b[0m",
      "\u001b[1;31mResourceClosedError\u001b[0m                       Traceback (most recent call last)",
      "\u001b[1;32m<ipython-input-20-4d4e806a16fc>\u001b[0m in \u001b[0;36m<module>\u001b[1;34m\u001b[0m\n\u001b[1;32m----> 1\u001b[1;33m \u001b[0mget_ipython\u001b[0m\u001b[1;33m(\u001b[0m\u001b[1;33m)\u001b[0m\u001b[1;33m.\u001b[0m\u001b[0mrun_cell_magic\u001b[0m\u001b[1;33m(\u001b[0m\u001b[1;34m'sql'\u001b[0m\u001b[1;33m,\u001b[0m \u001b[1;34m''\u001b[0m\u001b[1;33m,\u001b[0m \u001b[1;34m'CREATE OR ALTER VIEW city_year AS\\nSELECT DISTINCT City,\\n                Year\\nFROM            athlete_events\\n'\u001b[0m\u001b[1;33m)\u001b[0m\u001b[1;33m\u001b[0m\u001b[1;33m\u001b[0m\u001b[0m\n\u001b[0m",
      "\u001b[1;32m~\\anaconda3\\lib\\site-packages\\IPython\\core\\interactiveshell.py\u001b[0m in \u001b[0;36mrun_cell_magic\u001b[1;34m(self, magic_name, line, cell)\u001b[0m\n\u001b[0;32m   2397\u001b[0m             \u001b[1;32mwith\u001b[0m \u001b[0mself\u001b[0m\u001b[1;33m.\u001b[0m\u001b[0mbuiltin_trap\u001b[0m\u001b[1;33m:\u001b[0m\u001b[1;33m\u001b[0m\u001b[1;33m\u001b[0m\u001b[0m\n\u001b[0;32m   2398\u001b[0m                 \u001b[0margs\u001b[0m \u001b[1;33m=\u001b[0m \u001b[1;33m(\u001b[0m\u001b[0mmagic_arg_s\u001b[0m\u001b[1;33m,\u001b[0m \u001b[0mcell\u001b[0m\u001b[1;33m)\u001b[0m\u001b[1;33m\u001b[0m\u001b[1;33m\u001b[0m\u001b[0m\n\u001b[1;32m-> 2399\u001b[1;33m                 \u001b[0mresult\u001b[0m \u001b[1;33m=\u001b[0m \u001b[0mfn\u001b[0m\u001b[1;33m(\u001b[0m\u001b[1;33m*\u001b[0m\u001b[0margs\u001b[0m\u001b[1;33m,\u001b[0m \u001b[1;33m**\u001b[0m\u001b[0mkwargs\u001b[0m\u001b[1;33m)\u001b[0m\u001b[1;33m\u001b[0m\u001b[1;33m\u001b[0m\u001b[0m\n\u001b[0m\u001b[0;32m   2400\u001b[0m             \u001b[1;32mreturn\u001b[0m \u001b[0mresult\u001b[0m\u001b[1;33m\u001b[0m\u001b[1;33m\u001b[0m\u001b[0m\n\u001b[0;32m   2401\u001b[0m \u001b[1;33m\u001b[0m\u001b[0m\n",
      "\u001b[1;32m~\\anaconda3\\lib\\site-packages\\decorator.py\u001b[0m in \u001b[0;36mfun\u001b[1;34m(*args, **kw)\u001b[0m\n\u001b[0;32m    229\u001b[0m             \u001b[1;32mif\u001b[0m \u001b[1;32mnot\u001b[0m \u001b[0mkwsyntax\u001b[0m\u001b[1;33m:\u001b[0m\u001b[1;33m\u001b[0m\u001b[1;33m\u001b[0m\u001b[0m\n\u001b[0;32m    230\u001b[0m                 \u001b[0margs\u001b[0m\u001b[1;33m,\u001b[0m \u001b[0mkw\u001b[0m \u001b[1;33m=\u001b[0m \u001b[0mfix\u001b[0m\u001b[1;33m(\u001b[0m\u001b[0margs\u001b[0m\u001b[1;33m,\u001b[0m \u001b[0mkw\u001b[0m\u001b[1;33m,\u001b[0m \u001b[0msig\u001b[0m\u001b[1;33m)\u001b[0m\u001b[1;33m\u001b[0m\u001b[1;33m\u001b[0m\u001b[0m\n\u001b[1;32m--> 231\u001b[1;33m             \u001b[1;32mreturn\u001b[0m \u001b[0mcaller\u001b[0m\u001b[1;33m(\u001b[0m\u001b[0mfunc\u001b[0m\u001b[1;33m,\u001b[0m \u001b[1;33m*\u001b[0m\u001b[1;33m(\u001b[0m\u001b[0mextras\u001b[0m \u001b[1;33m+\u001b[0m \u001b[0margs\u001b[0m\u001b[1;33m)\u001b[0m\u001b[1;33m,\u001b[0m \u001b[1;33m**\u001b[0m\u001b[0mkw\u001b[0m\u001b[1;33m)\u001b[0m\u001b[1;33m\u001b[0m\u001b[1;33m\u001b[0m\u001b[0m\n\u001b[0m\u001b[0;32m    232\u001b[0m     \u001b[0mfun\u001b[0m\u001b[1;33m.\u001b[0m\u001b[0m__name__\u001b[0m \u001b[1;33m=\u001b[0m \u001b[0mfunc\u001b[0m\u001b[1;33m.\u001b[0m\u001b[0m__name__\u001b[0m\u001b[1;33m\u001b[0m\u001b[1;33m\u001b[0m\u001b[0m\n\u001b[0;32m    233\u001b[0m     \u001b[0mfun\u001b[0m\u001b[1;33m.\u001b[0m\u001b[0m__doc__\u001b[0m \u001b[1;33m=\u001b[0m \u001b[0mfunc\u001b[0m\u001b[1;33m.\u001b[0m\u001b[0m__doc__\u001b[0m\u001b[1;33m\u001b[0m\u001b[1;33m\u001b[0m\u001b[0m\n",
      "\u001b[1;32m~\\anaconda3\\lib\\site-packages\\IPython\\core\\magic.py\u001b[0m in \u001b[0;36m<lambda>\u001b[1;34m(f, *a, **k)\u001b[0m\n\u001b[0;32m    185\u001b[0m     \u001b[1;31m# but it's overkill for just that one bit of state.\u001b[0m\u001b[1;33m\u001b[0m\u001b[1;33m\u001b[0m\u001b[1;33m\u001b[0m\u001b[0m\n\u001b[0;32m    186\u001b[0m     \u001b[1;32mdef\u001b[0m \u001b[0mmagic_deco\u001b[0m\u001b[1;33m(\u001b[0m\u001b[0marg\u001b[0m\u001b[1;33m)\u001b[0m\u001b[1;33m:\u001b[0m\u001b[1;33m\u001b[0m\u001b[1;33m\u001b[0m\u001b[0m\n\u001b[1;32m--> 187\u001b[1;33m         \u001b[0mcall\u001b[0m \u001b[1;33m=\u001b[0m \u001b[1;32mlambda\u001b[0m \u001b[0mf\u001b[0m\u001b[1;33m,\u001b[0m \u001b[1;33m*\u001b[0m\u001b[0ma\u001b[0m\u001b[1;33m,\u001b[0m \u001b[1;33m**\u001b[0m\u001b[0mk\u001b[0m\u001b[1;33m:\u001b[0m \u001b[0mf\u001b[0m\u001b[1;33m(\u001b[0m\u001b[1;33m*\u001b[0m\u001b[0ma\u001b[0m\u001b[1;33m,\u001b[0m \u001b[1;33m**\u001b[0m\u001b[0mk\u001b[0m\u001b[1;33m)\u001b[0m\u001b[1;33m\u001b[0m\u001b[1;33m\u001b[0m\u001b[0m\n\u001b[0m\u001b[0;32m    188\u001b[0m \u001b[1;33m\u001b[0m\u001b[0m\n\u001b[0;32m    189\u001b[0m         \u001b[1;32mif\u001b[0m \u001b[0mcallable\u001b[0m\u001b[1;33m(\u001b[0m\u001b[0marg\u001b[0m\u001b[1;33m)\u001b[0m\u001b[1;33m:\u001b[0m\u001b[1;33m\u001b[0m\u001b[1;33m\u001b[0m\u001b[0m\n",
      "\u001b[1;32m~\\anaconda3\\lib\\site-packages\\decorator.py\u001b[0m in \u001b[0;36mfun\u001b[1;34m(*args, **kw)\u001b[0m\n\u001b[0;32m    229\u001b[0m             \u001b[1;32mif\u001b[0m \u001b[1;32mnot\u001b[0m \u001b[0mkwsyntax\u001b[0m\u001b[1;33m:\u001b[0m\u001b[1;33m\u001b[0m\u001b[1;33m\u001b[0m\u001b[0m\n\u001b[0;32m    230\u001b[0m                 \u001b[0margs\u001b[0m\u001b[1;33m,\u001b[0m \u001b[0mkw\u001b[0m \u001b[1;33m=\u001b[0m \u001b[0mfix\u001b[0m\u001b[1;33m(\u001b[0m\u001b[0margs\u001b[0m\u001b[1;33m,\u001b[0m \u001b[0mkw\u001b[0m\u001b[1;33m,\u001b[0m \u001b[0msig\u001b[0m\u001b[1;33m)\u001b[0m\u001b[1;33m\u001b[0m\u001b[1;33m\u001b[0m\u001b[0m\n\u001b[1;32m--> 231\u001b[1;33m             \u001b[1;32mreturn\u001b[0m \u001b[0mcaller\u001b[0m\u001b[1;33m(\u001b[0m\u001b[0mfunc\u001b[0m\u001b[1;33m,\u001b[0m \u001b[1;33m*\u001b[0m\u001b[1;33m(\u001b[0m\u001b[0mextras\u001b[0m \u001b[1;33m+\u001b[0m \u001b[0margs\u001b[0m\u001b[1;33m)\u001b[0m\u001b[1;33m,\u001b[0m \u001b[1;33m**\u001b[0m\u001b[0mkw\u001b[0m\u001b[1;33m)\u001b[0m\u001b[1;33m\u001b[0m\u001b[1;33m\u001b[0m\u001b[0m\n\u001b[0m\u001b[0;32m    232\u001b[0m     \u001b[0mfun\u001b[0m\u001b[1;33m.\u001b[0m\u001b[0m__name__\u001b[0m \u001b[1;33m=\u001b[0m \u001b[0mfunc\u001b[0m\u001b[1;33m.\u001b[0m\u001b[0m__name__\u001b[0m\u001b[1;33m\u001b[0m\u001b[1;33m\u001b[0m\u001b[0m\n\u001b[0;32m    233\u001b[0m     \u001b[0mfun\u001b[0m\u001b[1;33m.\u001b[0m\u001b[0m__doc__\u001b[0m \u001b[1;33m=\u001b[0m \u001b[0mfunc\u001b[0m\u001b[1;33m.\u001b[0m\u001b[0m__doc__\u001b[0m\u001b[1;33m\u001b[0m\u001b[1;33m\u001b[0m\u001b[0m\n",
      "\u001b[1;32m~\\anaconda3\\lib\\site-packages\\IPython\\core\\magic.py\u001b[0m in \u001b[0;36m<lambda>\u001b[1;34m(f, *a, **k)\u001b[0m\n\u001b[0;32m    185\u001b[0m     \u001b[1;31m# but it's overkill for just that one bit of state.\u001b[0m\u001b[1;33m\u001b[0m\u001b[1;33m\u001b[0m\u001b[1;33m\u001b[0m\u001b[0m\n\u001b[0;32m    186\u001b[0m     \u001b[1;32mdef\u001b[0m \u001b[0mmagic_deco\u001b[0m\u001b[1;33m(\u001b[0m\u001b[0marg\u001b[0m\u001b[1;33m)\u001b[0m\u001b[1;33m:\u001b[0m\u001b[1;33m\u001b[0m\u001b[1;33m\u001b[0m\u001b[0m\n\u001b[1;32m--> 187\u001b[1;33m         \u001b[0mcall\u001b[0m \u001b[1;33m=\u001b[0m \u001b[1;32mlambda\u001b[0m \u001b[0mf\u001b[0m\u001b[1;33m,\u001b[0m \u001b[1;33m*\u001b[0m\u001b[0ma\u001b[0m\u001b[1;33m,\u001b[0m \u001b[1;33m**\u001b[0m\u001b[0mk\u001b[0m\u001b[1;33m:\u001b[0m \u001b[0mf\u001b[0m\u001b[1;33m(\u001b[0m\u001b[1;33m*\u001b[0m\u001b[0ma\u001b[0m\u001b[1;33m,\u001b[0m \u001b[1;33m**\u001b[0m\u001b[0mk\u001b[0m\u001b[1;33m)\u001b[0m\u001b[1;33m\u001b[0m\u001b[1;33m\u001b[0m\u001b[0m\n\u001b[0m\u001b[0;32m    188\u001b[0m \u001b[1;33m\u001b[0m\u001b[0m\n\u001b[0;32m    189\u001b[0m         \u001b[1;32mif\u001b[0m \u001b[0mcallable\u001b[0m\u001b[1;33m(\u001b[0m\u001b[0marg\u001b[0m\u001b[1;33m)\u001b[0m\u001b[1;33m:\u001b[0m\u001b[1;33m\u001b[0m\u001b[1;33m\u001b[0m\u001b[0m\n",
      "\u001b[1;32m~\\anaconda3\\lib\\site-packages\\sql\\magic.py\u001b[0m in \u001b[0;36mexecute\u001b[1;34m(self, line, cell, local_ns)\u001b[0m\n\u001b[0;32m    215\u001b[0m \u001b[1;33m\u001b[0m\u001b[0m\n\u001b[0;32m    216\u001b[0m         \u001b[1;32mtry\u001b[0m\u001b[1;33m:\u001b[0m\u001b[1;33m\u001b[0m\u001b[1;33m\u001b[0m\u001b[0m\n\u001b[1;32m--> 217\u001b[1;33m             \u001b[0mresult\u001b[0m \u001b[1;33m=\u001b[0m \u001b[0msql\u001b[0m\u001b[1;33m.\u001b[0m\u001b[0mrun\u001b[0m\u001b[1;33m.\u001b[0m\u001b[0mrun\u001b[0m\u001b[1;33m(\u001b[0m\u001b[0mconn\u001b[0m\u001b[1;33m,\u001b[0m \u001b[0mparsed\u001b[0m\u001b[1;33m[\u001b[0m\u001b[1;34m\"sql\"\u001b[0m\u001b[1;33m]\u001b[0m\u001b[1;33m,\u001b[0m \u001b[0mself\u001b[0m\u001b[1;33m,\u001b[0m \u001b[0muser_ns\u001b[0m\u001b[1;33m)\u001b[0m\u001b[1;33m\u001b[0m\u001b[1;33m\u001b[0m\u001b[0m\n\u001b[0m\u001b[0;32m    218\u001b[0m \u001b[1;33m\u001b[0m\u001b[0m\n\u001b[0;32m    219\u001b[0m             if (\n",
      "\u001b[1;32m~\\anaconda3\\lib\\site-packages\\sql\\run.py\u001b[0m in \u001b[0;36mrun\u001b[1;34m(conn, sql, config, user_namespace)\u001b[0m\n\u001b[0;32m    369\u001b[0m             \u001b[1;32mif\u001b[0m \u001b[0mresult\u001b[0m \u001b[1;32mand\u001b[0m \u001b[0mconfig\u001b[0m\u001b[1;33m.\u001b[0m\u001b[0mfeedback\u001b[0m\u001b[1;33m:\u001b[0m\u001b[1;33m\u001b[0m\u001b[1;33m\u001b[0m\u001b[0m\n\u001b[0;32m    370\u001b[0m                 \u001b[0mprint\u001b[0m\u001b[1;33m(\u001b[0m\u001b[0minterpret_rowcount\u001b[0m\u001b[1;33m(\u001b[0m\u001b[0mresult\u001b[0m\u001b[1;33m.\u001b[0m\u001b[0mrowcount\u001b[0m\u001b[1;33m)\u001b[0m\u001b[1;33m)\u001b[0m\u001b[1;33m\u001b[0m\u001b[1;33m\u001b[0m\u001b[0m\n\u001b[1;32m--> 371\u001b[1;33m         \u001b[0mresultset\u001b[0m \u001b[1;33m=\u001b[0m \u001b[0mResultSet\u001b[0m\u001b[1;33m(\u001b[0m\u001b[0mresult\u001b[0m\u001b[1;33m,\u001b[0m \u001b[0mstatement\u001b[0m\u001b[1;33m,\u001b[0m \u001b[0mconfig\u001b[0m\u001b[1;33m)\u001b[0m\u001b[1;33m\u001b[0m\u001b[1;33m\u001b[0m\u001b[0m\n\u001b[0m\u001b[0;32m    372\u001b[0m         \u001b[1;32mif\u001b[0m \u001b[0mconfig\u001b[0m\u001b[1;33m.\u001b[0m\u001b[0mautopandas\u001b[0m\u001b[1;33m:\u001b[0m\u001b[1;33m\u001b[0m\u001b[1;33m\u001b[0m\u001b[0m\n\u001b[0;32m    373\u001b[0m             \u001b[1;32mreturn\u001b[0m \u001b[0mresultset\u001b[0m\u001b[1;33m.\u001b[0m\u001b[0mDataFrame\u001b[0m\u001b[1;33m(\u001b[0m\u001b[1;33m)\u001b[0m\u001b[1;33m\u001b[0m\u001b[1;33m\u001b[0m\u001b[0m\n",
      "\u001b[1;32m~\\anaconda3\\lib\\site-packages\\sql\\run.py\u001b[0m in \u001b[0;36m__init__\u001b[1;34m(self, sqlaproxy, sql, config)\u001b[0m\n\u001b[0;32m    105\u001b[0m \u001b[1;33m\u001b[0m\u001b[0m\n\u001b[0;32m    106\u001b[0m     \u001b[1;32mdef\u001b[0m \u001b[0m__init__\u001b[0m\u001b[1;33m(\u001b[0m\u001b[0mself\u001b[0m\u001b[1;33m,\u001b[0m \u001b[0msqlaproxy\u001b[0m\u001b[1;33m,\u001b[0m \u001b[0msql\u001b[0m\u001b[1;33m,\u001b[0m \u001b[0mconfig\u001b[0m\u001b[1;33m)\u001b[0m\u001b[1;33m:\u001b[0m\u001b[1;33m\u001b[0m\u001b[1;33m\u001b[0m\u001b[0m\n\u001b[1;32m--> 107\u001b[1;33m         \u001b[0mself\u001b[0m\u001b[1;33m.\u001b[0m\u001b[0mkeys\u001b[0m \u001b[1;33m=\u001b[0m \u001b[0msqlaproxy\u001b[0m\u001b[1;33m.\u001b[0m\u001b[0mkeys\u001b[0m\u001b[1;33m(\u001b[0m\u001b[1;33m)\u001b[0m\u001b[1;33m\u001b[0m\u001b[1;33m\u001b[0m\u001b[0m\n\u001b[0m\u001b[0;32m    108\u001b[0m         \u001b[0mself\u001b[0m\u001b[1;33m.\u001b[0m\u001b[0msql\u001b[0m \u001b[1;33m=\u001b[0m \u001b[0msql\u001b[0m\u001b[1;33m\u001b[0m\u001b[1;33m\u001b[0m\u001b[0m\n\u001b[0;32m    109\u001b[0m         \u001b[0mself\u001b[0m\u001b[1;33m.\u001b[0m\u001b[0mconfig\u001b[0m \u001b[1;33m=\u001b[0m \u001b[0mconfig\u001b[0m\u001b[1;33m\u001b[0m\u001b[1;33m\u001b[0m\u001b[0m\n",
      "\u001b[1;32m~\\anaconda3\\lib\\site-packages\\sqlalchemy\\engine\\result.py\u001b[0m in \u001b[0;36mkeys\u001b[1;34m(self)\u001b[0m\n\u001b[0;32m    705\u001b[0m \u001b[1;33m\u001b[0m\u001b[0m\n\u001b[0;32m    706\u001b[0m         \"\"\"\n\u001b[1;32m--> 707\u001b[1;33m         \u001b[1;32mreturn\u001b[0m \u001b[0mself\u001b[0m\u001b[1;33m.\u001b[0m\u001b[0m_metadata\u001b[0m\u001b[1;33m.\u001b[0m\u001b[0mkeys\u001b[0m\u001b[1;33m\u001b[0m\u001b[1;33m\u001b[0m\u001b[0m\n\u001b[0m\u001b[0;32m    708\u001b[0m \u001b[1;33m\u001b[0m\u001b[0m\n\u001b[0;32m    709\u001b[0m \u001b[1;33m\u001b[0m\u001b[0m\n",
      "\u001b[1;32m~\\anaconda3\\lib\\site-packages\\sqlalchemy\\engine\\cursor.py\u001b[0m in \u001b[0;36mkeys\u001b[1;34m(self)\u001b[0m\n\u001b[0;32m   1199\u001b[0m     \u001b[1;33m@\u001b[0m\u001b[0mproperty\u001b[0m\u001b[1;33m\u001b[0m\u001b[1;33m\u001b[0m\u001b[0m\n\u001b[0;32m   1200\u001b[0m     \u001b[1;32mdef\u001b[0m \u001b[0mkeys\u001b[0m\u001b[1;33m(\u001b[0m\u001b[0mself\u001b[0m\u001b[1;33m)\u001b[0m\u001b[1;33m:\u001b[0m\u001b[1;33m\u001b[0m\u001b[1;33m\u001b[0m\u001b[0m\n\u001b[1;32m-> 1201\u001b[1;33m         \u001b[0mself\u001b[0m\u001b[1;33m.\u001b[0m\u001b[0m_we_dont_return_rows\u001b[0m\u001b[1;33m(\u001b[0m\u001b[1;33m)\u001b[0m\u001b[1;33m\u001b[0m\u001b[1;33m\u001b[0m\u001b[0m\n\u001b[0m\u001b[0;32m   1202\u001b[0m \u001b[1;33m\u001b[0m\u001b[0m\n\u001b[0;32m   1203\u001b[0m \u001b[1;33m\u001b[0m\u001b[0m\n",
      "\u001b[1;32m~\\anaconda3\\lib\\site-packages\\sqlalchemy\\engine\\cursor.py\u001b[0m in \u001b[0;36m_we_dont_return_rows\u001b[1;34m(self, err)\u001b[0m\n\u001b[0;32m   1176\u001b[0m \u001b[1;33m\u001b[0m\u001b[0m\n\u001b[0;32m   1177\u001b[0m     \u001b[1;32mdef\u001b[0m \u001b[0m_we_dont_return_rows\u001b[0m\u001b[1;33m(\u001b[0m\u001b[0mself\u001b[0m\u001b[1;33m,\u001b[0m \u001b[0merr\u001b[0m\u001b[1;33m=\u001b[0m\u001b[1;32mNone\u001b[0m\u001b[1;33m)\u001b[0m\u001b[1;33m:\u001b[0m\u001b[1;33m\u001b[0m\u001b[1;33m\u001b[0m\u001b[0m\n\u001b[1;32m-> 1178\u001b[1;33m         util.raise_(\n\u001b[0m\u001b[0;32m   1179\u001b[0m             exc.ResourceClosedError(\n\u001b[0;32m   1180\u001b[0m                 \u001b[1;34m\"This result object does not return rows. \"\u001b[0m\u001b[1;33m\u001b[0m\u001b[1;33m\u001b[0m\u001b[0m\n",
      "\u001b[1;32m~\\anaconda3\\lib\\site-packages\\sqlalchemy\\util\\compat.py\u001b[0m in \u001b[0;36mraise_\u001b[1;34m(***failed resolving arguments***)\u001b[0m\n\u001b[0;32m    209\u001b[0m \u001b[1;33m\u001b[0m\u001b[0m\n\u001b[0;32m    210\u001b[0m         \u001b[1;32mtry\u001b[0m\u001b[1;33m:\u001b[0m\u001b[1;33m\u001b[0m\u001b[1;33m\u001b[0m\u001b[0m\n\u001b[1;32m--> 211\u001b[1;33m             \u001b[1;32mraise\u001b[0m \u001b[0mexception\u001b[0m\u001b[1;33m\u001b[0m\u001b[1;33m\u001b[0m\u001b[0m\n\u001b[0m\u001b[0;32m    212\u001b[0m         \u001b[1;32mfinally\u001b[0m\u001b[1;33m:\u001b[0m\u001b[1;33m\u001b[0m\u001b[1;33m\u001b[0m\u001b[0m\n\u001b[0;32m    213\u001b[0m             \u001b[1;31m# credit to\u001b[0m\u001b[1;33m\u001b[0m\u001b[1;33m\u001b[0m\u001b[1;33m\u001b[0m\u001b[0m\n",
      "\u001b[1;31mResourceClosedError\u001b[0m: This result object does not return rows. It has been closed automatically."
     ]
    }
   ],
   "source": [
    "#collapse_output\n",
    "%%sql \n",
    "CREATE OR ALTER VIEW city_year AS\n",
    "SELECT DISTINCT City,\n",
    "                Year\n",
    "FROM            athlete_events"
   ]
  },
  {
   "cell_type": "code",
   "execution_count": 21,
   "id": "ecb421dd",
   "metadata": {},
   "outputs": [
    {
     "name": "stdout",
     "output_type": "stream",
     "text": [
      " * mssql+pyodbc://@localhost\\SQLEXPRESS/OlympicsHistory?driver=SQL+Server&trusted_connection=yes\n",
      "Done.\n"
     ]
    },
    {
     "data": {
      "text/html": [
       "<table>\n",
       "    <tr>\n",
       "        <th>City</th>\n",
       "        <th>NumTimes</th>\n",
       "    </tr>\n",
       "    <tr>\n",
       "        <td>London</td>\n",
       "        <td>3</td>\n",
       "    </tr>\n",
       "    <tr>\n",
       "        <td>Athina</td>\n",
       "        <td>3</td>\n",
       "    </tr>\n",
       "    <tr>\n",
       "        <td>Sankt Moritz</td>\n",
       "        <td>2</td>\n",
       "    </tr>\n",
       "    <tr>\n",
       "        <td>Innsbruck</td>\n",
       "        <td>2</td>\n",
       "    </tr>\n",
       "    <tr>\n",
       "        <td>Lake Placid</td>\n",
       "        <td>2</td>\n",
       "    </tr>\n",
       "    <tr>\n",
       "        <td>Stockholm</td>\n",
       "        <td>2</td>\n",
       "    </tr>\n",
       "    <tr>\n",
       "        <td>Los Angeles</td>\n",
       "        <td>2</td>\n",
       "    </tr>\n",
       "    <tr>\n",
       "        <td>Paris</td>\n",
       "        <td>2</td>\n",
       "    </tr>\n",
       "</table>"
      ],
      "text/plain": [
       "[('London', 3),\n",
       " ('Athina', 3),\n",
       " ('Sankt Moritz', 2),\n",
       " ('Innsbruck', 2),\n",
       " ('Lake Placid', 2),\n",
       " ('Stockholm', 2),\n",
       " ('Los Angeles', 2),\n",
       " ('Paris', 2)]"
      ]
     },
     "execution_count": 21,
     "metadata": {},
     "output_type": "execute_result"
    }
   ],
   "source": [
    "%%sql\n",
    "SELECT City,\n",
    "       Count(Year) AS NumTimes\n",
    "FROM   city_year\n",
    "GROUP  BY City\n",
    "HAVING Count(Year) > 1\n",
    "ORDER  BY numtimes DESC "
   ]
  },
  {
   "cell_type": "markdown",
   "id": "ca9611fb",
   "metadata": {},
   "source": [
    "#### Find the seasons for each year as two columns (Summer, Winter)"
   ]
  },
  {
   "cell_type": "code",
   "execution_count": 22,
   "id": "b16d4ab4",
   "metadata": {},
   "outputs": [
    {
     "name": "stdout",
     "output_type": "stream",
     "text": [
      " * mssql+pyodbc://@localhost\\SQLEXPRESS/OlympicsHistory?driver=SQL+Server&trusted_connection=yes\n",
      "Done.\n"
     ]
    },
    {
     "data": {
      "text/html": [
       "<table>\n",
       "    <tr>\n",
       "        <th>Year</th>\n",
       "        <th>Summer</th>\n",
       "        <th>Winter</th>\n",
       "    </tr>\n",
       "    <tr>\n",
       "        <td>1896</td>\n",
       "        <td>1</td>\n",
       "        <td>0</td>\n",
       "    </tr>\n",
       "    <tr>\n",
       "        <td>1900</td>\n",
       "        <td>1</td>\n",
       "        <td>0</td>\n",
       "    </tr>\n",
       "    <tr>\n",
       "        <td>1904</td>\n",
       "        <td>1</td>\n",
       "        <td>0</td>\n",
       "    </tr>\n",
       "    <tr>\n",
       "        <td>1906</td>\n",
       "        <td>1</td>\n",
       "        <td>0</td>\n",
       "    </tr>\n",
       "    <tr>\n",
       "        <td>1908</td>\n",
       "        <td>1</td>\n",
       "        <td>0</td>\n",
       "    </tr>\n",
       "    <tr>\n",
       "        <td>1912</td>\n",
       "        <td>1</td>\n",
       "        <td>0</td>\n",
       "    </tr>\n",
       "    <tr>\n",
       "        <td>1920</td>\n",
       "        <td>1</td>\n",
       "        <td>0</td>\n",
       "    </tr>\n",
       "    <tr>\n",
       "        <td>1924</td>\n",
       "        <td>1</td>\n",
       "        <td>1</td>\n",
       "    </tr>\n",
       "    <tr>\n",
       "        <td>1928</td>\n",
       "        <td>1</td>\n",
       "        <td>1</td>\n",
       "    </tr>\n",
       "    <tr>\n",
       "        <td>1932</td>\n",
       "        <td>1</td>\n",
       "        <td>1</td>\n",
       "    </tr>\n",
       "    <tr>\n",
       "        <td>1936</td>\n",
       "        <td>1</td>\n",
       "        <td>1</td>\n",
       "    </tr>\n",
       "    <tr>\n",
       "        <td>1948</td>\n",
       "        <td>1</td>\n",
       "        <td>1</td>\n",
       "    </tr>\n",
       "    <tr>\n",
       "        <td>1952</td>\n",
       "        <td>1</td>\n",
       "        <td>1</td>\n",
       "    </tr>\n",
       "    <tr>\n",
       "        <td>1956</td>\n",
       "        <td>1</td>\n",
       "        <td>1</td>\n",
       "    </tr>\n",
       "    <tr>\n",
       "        <td>1960</td>\n",
       "        <td>1</td>\n",
       "        <td>1</td>\n",
       "    </tr>\n",
       "    <tr>\n",
       "        <td>1964</td>\n",
       "        <td>1</td>\n",
       "        <td>1</td>\n",
       "    </tr>\n",
       "    <tr>\n",
       "        <td>1968</td>\n",
       "        <td>1</td>\n",
       "        <td>1</td>\n",
       "    </tr>\n",
       "    <tr>\n",
       "        <td>1972</td>\n",
       "        <td>1</td>\n",
       "        <td>1</td>\n",
       "    </tr>\n",
       "    <tr>\n",
       "        <td>1976</td>\n",
       "        <td>1</td>\n",
       "        <td>1</td>\n",
       "    </tr>\n",
       "    <tr>\n",
       "        <td>1980</td>\n",
       "        <td>1</td>\n",
       "        <td>1</td>\n",
       "    </tr>\n",
       "    <tr>\n",
       "        <td>1984</td>\n",
       "        <td>1</td>\n",
       "        <td>1</td>\n",
       "    </tr>\n",
       "    <tr>\n",
       "        <td>1988</td>\n",
       "        <td>1</td>\n",
       "        <td>1</td>\n",
       "    </tr>\n",
       "    <tr>\n",
       "        <td>1992</td>\n",
       "        <td>1</td>\n",
       "        <td>1</td>\n",
       "    </tr>\n",
       "    <tr>\n",
       "        <td>1994</td>\n",
       "        <td>0</td>\n",
       "        <td>1</td>\n",
       "    </tr>\n",
       "    <tr>\n",
       "        <td>1996</td>\n",
       "        <td>1</td>\n",
       "        <td>0</td>\n",
       "    </tr>\n",
       "    <tr>\n",
       "        <td>1998</td>\n",
       "        <td>0</td>\n",
       "        <td>1</td>\n",
       "    </tr>\n",
       "    <tr>\n",
       "        <td>2000</td>\n",
       "        <td>1</td>\n",
       "        <td>0</td>\n",
       "    </tr>\n",
       "    <tr>\n",
       "        <td>2002</td>\n",
       "        <td>0</td>\n",
       "        <td>1</td>\n",
       "    </tr>\n",
       "    <tr>\n",
       "        <td>2004</td>\n",
       "        <td>1</td>\n",
       "        <td>0</td>\n",
       "    </tr>\n",
       "    <tr>\n",
       "        <td>2006</td>\n",
       "        <td>0</td>\n",
       "        <td>1</td>\n",
       "    </tr>\n",
       "    <tr>\n",
       "        <td>2008</td>\n",
       "        <td>1</td>\n",
       "        <td>0</td>\n",
       "    </tr>\n",
       "    <tr>\n",
       "        <td>2010</td>\n",
       "        <td>0</td>\n",
       "        <td>1</td>\n",
       "    </tr>\n",
       "    <tr>\n",
       "        <td>2012</td>\n",
       "        <td>1</td>\n",
       "        <td>0</td>\n",
       "    </tr>\n",
       "    <tr>\n",
       "        <td>2014</td>\n",
       "        <td>0</td>\n",
       "        <td>1</td>\n",
       "    </tr>\n",
       "    <tr>\n",
       "        <td>2016</td>\n",
       "        <td>1</td>\n",
       "        <td>0</td>\n",
       "    </tr>\n",
       "</table>"
      ],
      "text/plain": [
       "[('1896', 1, 0),\n",
       " ('1900', 1, 0),\n",
       " ('1904', 1, 0),\n",
       " ('1906', 1, 0),\n",
       " ('1908', 1, 0),\n",
       " ('1912', 1, 0),\n",
       " ('1920', 1, 0),\n",
       " ('1924', 1, 1),\n",
       " ('1928', 1, 1),\n",
       " ('1932', 1, 1),\n",
       " ('1936', 1, 1),\n",
       " ('1948', 1, 1),\n",
       " ('1952', 1, 1),\n",
       " ('1956', 1, 1),\n",
       " ('1960', 1, 1),\n",
       " ('1964', 1, 1),\n",
       " ('1968', 1, 1),\n",
       " ('1972', 1, 1),\n",
       " ('1976', 1, 1),\n",
       " ('1980', 1, 1),\n",
       " ('1984', 1, 1),\n",
       " ('1988', 1, 1),\n",
       " ('1992', 1, 1),\n",
       " ('1994', 0, 1),\n",
       " ('1996', 1, 0),\n",
       " ('1998', 0, 1),\n",
       " ('2000', 1, 0),\n",
       " ('2002', 0, 1),\n",
       " ('2004', 1, 0),\n",
       " ('2006', 0, 1),\n",
       " ('2008', 1, 0),\n",
       " ('2010', 0, 1),\n",
       " ('2012', 1, 0),\n",
       " ('2014', 0, 1),\n",
       " ('2016', 1, 0)]"
      ]
     },
     "execution_count": 22,
     "metadata": {},
     "output_type": "execute_result"
    }
   ],
   "source": [
    "%%sql\n",
    "SELECT *\n",
    "FROM   (SELECT DISTINCT PARSENAME(REPLACE(Games, ' ', '.'), 2) AS Year,\n",
    "                        PARSENAME(REPLACE(Games, ' ', '.'), 1) AS Season\n",
    "        FROM   athlete_events) t1\n",
    "       PIVOT ( Count(Season)\n",
    "             FOR Season IN (Summer,\n",
    "                            Winter) ) piv\n",
    "ORDER  BY Year "
   ]
  },
  {
   "cell_type": "markdown",
   "id": "b8b2bbc6",
   "metadata": {},
   "source": [
    "#### What is the average age of participants?"
   ]
  },
  {
   "cell_type": "code",
   "execution_count": 23,
   "id": "082094ec",
   "metadata": {},
   "outputs": [
    {
     "name": "stdout",
     "output_type": "stream",
     "text": [
      " * mssql+pyodbc://@localhost\\SQLEXPRESS/OlympicsHistory?driver=SQL+Server&trusted_connection=yes\n",
      "Done.\n"
     ]
    },
    {
     "data": {
      "text/html": [
       "<table>\n",
       "    <tr>\n",
       "        <th>AvgAge</th>\n",
       "    </tr>\n",
       "    <tr>\n",
       "        <td>25</td>\n",
       "    </tr>\n",
       "</table>"
      ],
      "text/plain": [
       "[(25,)]"
      ]
     },
     "execution_count": 23,
     "metadata": {},
     "output_type": "execute_result"
    }
   ],
   "source": [
    "%%sql\n",
    "SELECT Avg(Cast(Age AS INT)) as AvgAge\n",
    "FROM   athlete_events\n",
    "WHERE  age IS NOT NULL\n",
    "       AND age <> 'NA' "
   ]
  },
  {
   "cell_type": "markdown",
   "id": "d8f08a6c",
   "metadata": {},
   "source": [
    "#### What is the average age per season?"
   ]
  },
  {
   "cell_type": "code",
   "execution_count": 24,
   "id": "5e85a711",
   "metadata": {},
   "outputs": [
    {
     "name": "stdout",
     "output_type": "stream",
     "text": [
      " * mssql+pyodbc://@localhost\\SQLEXPRESS/OlympicsHistory?driver=SQL+Server&trusted_connection=yes\n",
      "Done.\n"
     ]
    },
    {
     "data": {
      "text/html": [
       "<table>\n",
       "    <tr>\n",
       "        <th>Season</th>\n",
       "        <th>AvgAge</th>\n",
       "    </tr>\n",
       "    <tr>\n",
       "        <td>Summer</td>\n",
       "        <td>25</td>\n",
       "    </tr>\n",
       "    <tr>\n",
       "        <td>Winter</td>\n",
       "        <td>25</td>\n",
       "    </tr>\n",
       "</table>"
      ],
      "text/plain": [
       "[('Summer', 25), ('Winter', 25)]"
      ]
     },
     "execution_count": 24,
     "metadata": {},
     "output_type": "execute_result"
    }
   ],
   "source": [
    "%%sql\n",
    "SELECT Season,\n",
    "       Avg(CAST(Age AS INT)) AvgAge\n",
    "FROM   athlete_events\n",
    "WHERE  Age <> 'NA'\n",
    "GROUP  BY Season "
   ]
  },
  {
   "cell_type": "markdown",
   "id": "43019b01",
   "metadata": {},
   "source": [
    "#### Is the average age fixed across the seasons and years?"
   ]
  },
  {
   "cell_type": "code",
   "execution_count": 25,
   "id": "a7671900",
   "metadata": {},
   "outputs": [
    {
     "name": "stdout",
     "output_type": "stream",
     "text": [
      " * mssql+pyodbc://@localhost\\SQLEXPRESS/OlympicsHistory?driver=SQL+Server&trusted_connection=yes\n",
      "Done.\n",
      "Returning data to local variable result\n"
     ]
    }
   ],
   "source": [
    "%%sql result <<\n",
    "SELECT Year, \n",
    "       Season, \n",
    "       AVG(cast(Age as int)) AverageAge \n",
    "FROM   athlete_events\n",
    "WHERE Age is not NULL \n",
    "      AND Age <> 'NA'\n",
    "GROUP BY Year, \n",
    "         Season\n",
    "ORDER BY Year, \n",
    "         Season"
   ]
  },
  {
   "cell_type": "code",
   "execution_count": 26,
   "id": "a395e5f6",
   "metadata": {},
   "outputs": [],
   "source": [
    "result_df = result.DataFrame()\n",
    "summer_df = result_df[result_df['Season'] == 'Summer']\n",
    "winter_df = result_df[result_df['Season'] == 'Winter']"
   ]
  },
  {
   "cell_type": "code",
   "execution_count": 27,
   "id": "3906f51d",
   "metadata": {},
   "outputs": [
    {
     "data": {
      "text/plain": [
       "<AxesSubplot:title={'center':'Winter Participants Average Age'}, xlabel='Year', ylabel='AverageAge'>"
      ]
     },
     "execution_count": 27,
     "metadata": {},
     "output_type": "execute_result"
    },
    {
     "data": {
      "image/png": "[encoded data removed]",
      "text/plain": [
       "<Figure size 432x288 with 1 Axes>"
      ]
     },
     "metadata": {
      "needs_background": "light"
     },
     "output_type": "display_data"
    },
    {
     "data": {
      "image/png": "[encoded data removed]",
      "text/plain": [
       "<Figure size 432x288 with 1 Axes>"
      ]
     },
     "metadata": {
      "needs_background": "light"
     },
     "output_type": "display_data"
    }
   ],
   "source": [
    "summer_df.plot.scatter(x='Year',y='AverageAge', title='Summer Participants Average Age')\n",
    "winter_df.plot.scatter(x='Year',y='AverageAge', title='Winter Participants Average Age')"
   ]
  },
  {
   "cell_type": "markdown",
   "id": "d816fc3f",
   "metadata": {},
   "source": [
    "The average for summer Olympics in 1932 looks too high, is this a valid result? if yes why did it happen?"
   ]
  },
  {
   "cell_type": "code",
   "execution_count": 28,
   "id": "657e2cdf",
   "metadata": {},
   "outputs": [
    {
     "name": "stdout",
     "output_type": "stream",
     "text": [
      " * mssql+pyodbc://@localhost\\SQLEXPRESS/OlympicsHistory?driver=SQL+Server&trusted_connection=yes\n",
      "Done.\n"
     ]
    },
    {
     "data": {
      "text/html": [
       "<table>\n",
       "    <tr>\n",
       "        <th>AvgAge</th>\n",
       "    </tr>\n",
       "    <tr>\n",
       "        <td>33</td>\n",
       "    </tr>\n",
       "</table>"
      ],
      "text/plain": [
       "[(33,)]"
      ]
     },
     "execution_count": 28,
     "metadata": {},
     "output_type": "execute_result"
    }
   ],
   "source": [
    "%%sql\n",
    "select AVG(cast(Age as int)) as AvgAge from athlete_events\n",
    "left join noc_regions on athlete_events.NOC = noc_regions.NOC\n",
    "where Year=1932 and Age <> 'NA' and Season='Summer'"
   ]
  },
  {
   "cell_type": "markdown",
   "id": "2b59f6c2",
   "metadata": {},
   "source": [
    "So, the average age was high, why is that the case?\n",
    "Let's look at a more statistics about the games broken down by year and season."
   ]
  },
  {
   "cell_type": "code",
   "execution_count": 29,
   "id": "29eb1c95",
   "metadata": {},
   "outputs": [
    {
     "name": "stdout",
     "output_type": "stream",
     "text": [
      " * mssql+pyodbc://@localhost\\SQLEXPRESS/OlympicsHistory?driver=SQL+Server&trusted_connection=yes\n",
      "Done.\n"
     ]
    },
    {
     "data": {
      "text/html": [
       "<table>\n",
       "    <tr>\n",
       "        <th>year</th>\n",
       "        <th>SummerMinAge</th>\n",
       "        <th>SummerMaxAge</th>\n",
       "        <th>SummerAvgAge</th>\n",
       "        <th>SummerVarAge</th>\n",
       "        <th>WinterMinAge</th>\n",
       "        <th>WinterMaxAge</th>\n",
       "        <th>WinterAvgAge</th>\n",
       "        <th>WinterVarAge</th>\n",
       "    </tr>\n",
       "    <tr>\n",
       "        <td>1896</td>\n",
       "        <td>10</td>\n",
       "        <td>40</td>\n",
       "        <td>23</td>\n",
       "        <td>22.02240143369178</td>\n",
       "        <td>None</td>\n",
       "        <td>None</td>\n",
       "        <td>None</td>\n",
       "        <td>None</td>\n",
       "    </tr>\n",
       "    <tr>\n",
       "        <td>1900</td>\n",
       "        <td>13</td>\n",
       "        <td>71</td>\n",
       "        <td>29</td>\n",
       "        <td>87.57875351516955</td>\n",
       "        <td>None</td>\n",
       "        <td>None</td>\n",
       "        <td>None</td>\n",
       "        <td>None</td>\n",
       "    </tr>\n",
       "    <tr>\n",
       "        <td>1904</td>\n",
       "        <td>14</td>\n",
       "        <td>71</td>\n",
       "        <td>26</td>\n",
       "        <td>76.6066534940619</td>\n",
       "        <td>None</td>\n",
       "        <td>None</td>\n",
       "        <td>None</td>\n",
       "        <td>None</td>\n",
       "    </tr>\n",
       "    <tr>\n",
       "        <td>1906</td>\n",
       "        <td>13</td>\n",
       "        <td>54</td>\n",
       "        <td>27</td>\n",
       "        <td>62.617258530706444</td>\n",
       "        <td>None</td>\n",
       "        <td>None</td>\n",
       "        <td>None</td>\n",
       "        <td>None</td>\n",
       "    </tr>\n",
       "    <tr>\n",
       "        <td>1908</td>\n",
       "        <td>14</td>\n",
       "        <td>61</td>\n",
       "        <td>26</td>\n",
       "        <td>61.15578403594632</td>\n",
       "        <td>None</td>\n",
       "        <td>None</td>\n",
       "        <td>None</td>\n",
       "        <td>None</td>\n",
       "    </tr>\n",
       "    <tr>\n",
       "        <td>1912</td>\n",
       "        <td>13</td>\n",
       "        <td>67</td>\n",
       "        <td>27</td>\n",
       "        <td>64.84038295212197</td>\n",
       "        <td>None</td>\n",
       "        <td>None</td>\n",
       "        <td>None</td>\n",
       "        <td>None</td>\n",
       "    </tr>\n",
       "    <tr>\n",
       "        <td>1920</td>\n",
       "        <td>13</td>\n",
       "        <td>72</td>\n",
       "        <td>29</td>\n",
       "        <td>68.44374620002326</td>\n",
       "        <td>None</td>\n",
       "        <td>None</td>\n",
       "        <td>None</td>\n",
       "        <td>None</td>\n",
       "    </tr>\n",
       "    <tr>\n",
       "        <td>1924</td>\n",
       "        <td>13</td>\n",
       "        <td>81</td>\n",
       "        <td>28</td>\n",
       "        <td>74.08304035936791</td>\n",
       "        <td>11</td>\n",
       "        <td>58</td>\n",
       "        <td>27</td>\n",
       "        <td>48.97374171326985</td>\n",
       "    </tr>\n",
       "    <tr>\n",
       "        <td>1928</td>\n",
       "        <td>11</td>\n",
       "        <td>97</td>\n",
       "        <td>29</td>\n",
       "        <td>118.93684427853675</td>\n",
       "        <td>15</td>\n",
       "        <td>54</td>\n",
       "        <td>26</td>\n",
       "        <td>37.10742966900141</td>\n",
       "    </tr>\n",
       "    <tr>\n",
       "        <td>1932</td>\n",
       "        <td>13</td>\n",
       "        <td>96</td>\n",
       "        <td>33</td>\n",
       "        <td>202.85578680390805</td>\n",
       "        <td>11</td>\n",
       "        <td>52</td>\n",
       "        <td>25</td>\n",
       "        <td>33.449755356216194</td>\n",
       "    </tr>\n",
       "    <tr>\n",
       "        <td>1936</td>\n",
       "        <td>12</td>\n",
       "        <td>74</td>\n",
       "        <td>27</td>\n",
       "        <td>76.48352848554916</td>\n",
       "        <td>11</td>\n",
       "        <td>46</td>\n",
       "        <td>25</td>\n",
       "        <td>24.044063840363208</td>\n",
       "    </tr>\n",
       "    <tr>\n",
       "        <td>1948</td>\n",
       "        <td>12</td>\n",
       "        <td>84</td>\n",
       "        <td>29</td>\n",
       "        <td>93.24748654592041</td>\n",
       "        <td>15</td>\n",
       "        <td>53</td>\n",
       "        <td>26</td>\n",
       "        <td>32.50355943000253</td>\n",
       "    </tr>\n",
       "    <tr>\n",
       "        <td>1952</td>\n",
       "        <td>13</td>\n",
       "        <td>65</td>\n",
       "        <td>26</td>\n",
       "        <td>43.83151104313369</td>\n",
       "        <td>12</td>\n",
       "        <td>47</td>\n",
       "        <td>25</td>\n",
       "        <td>26.63744994317875</td>\n",
       "    </tr>\n",
       "    <tr>\n",
       "        <td>1956</td>\n",
       "        <td>13</td>\n",
       "        <td>67</td>\n",
       "        <td>26</td>\n",
       "        <td>43.08506131207035</td>\n",
       "        <td>12</td>\n",
       "        <td>48</td>\n",
       "        <td>25</td>\n",
       "        <td>25.929199837782704</td>\n",
       "    </tr>\n",
       "    <tr>\n",
       "        <td>1960</td>\n",
       "        <td>12</td>\n",
       "        <td>65</td>\n",
       "        <td>25</td>\n",
       "        <td>38.08302692628261</td>\n",
       "        <td>11</td>\n",
       "        <td>39</td>\n",
       "        <td>24</td>\n",
       "        <td>20.080557267666588</td>\n",
       "    </tr>\n",
       "    <tr>\n",
       "        <td>1964</td>\n",
       "        <td>12</td>\n",
       "        <td>60</td>\n",
       "        <td>25</td>\n",
       "        <td>31.975105597154663</td>\n",
       "        <td>13</td>\n",
       "        <td>53</td>\n",
       "        <td>24</td>\n",
       "        <td>21.768654166104547</td>\n",
       "    </tr>\n",
       "    <tr>\n",
       "        <td>1968</td>\n",
       "        <td>11</td>\n",
       "        <td>68</td>\n",
       "        <td>24</td>\n",
       "        <td>36.317311148018874</td>\n",
       "        <td>11</td>\n",
       "        <td>51</td>\n",
       "        <td>24</td>\n",
       "        <td>18.71876641678888</td>\n",
       "    </tr>\n",
       "    <tr>\n",
       "        <td>1972</td>\n",
       "        <td>12</td>\n",
       "        <td>69</td>\n",
       "        <td>24</td>\n",
       "        <td>35.930160546839694</td>\n",
       "        <td>13</td>\n",
       "        <td>42</td>\n",
       "        <td>24</td>\n",
       "        <td>19.98596052286161</td>\n",
       "    </tr>\n",
       "    <tr>\n",
       "        <td>1976</td>\n",
       "        <td>12</td>\n",
       "        <td>70</td>\n",
       "        <td>23</td>\n",
       "        <td>32.802134361215664</td>\n",
       "        <td>12</td>\n",
       "        <td>46</td>\n",
       "        <td>23</td>\n",
       "        <td>21.7698320494643</td>\n",
       "    </tr>\n",
       "    <tr>\n",
       "        <td>1980</td>\n",
       "        <td>13</td>\n",
       "        <td>70</td>\n",
       "        <td>23</td>\n",
       "        <td>27.768520445745068</td>\n",
       "        <td>13</td>\n",
       "        <td>49</td>\n",
       "        <td>23</td>\n",
       "        <td>18.154642359559396</td>\n",
       "    </tr>\n",
       "    <tr>\n",
       "        <td>1984</td>\n",
       "        <td>12</td>\n",
       "        <td>60</td>\n",
       "        <td>24</td>\n",
       "        <td>30.05881562619138</td>\n",
       "        <td>15</td>\n",
       "        <td>53</td>\n",
       "        <td>23</td>\n",
       "        <td>16.397695807730326</td>\n",
       "    </tr>\n",
       "    <tr>\n",
       "        <td>1988</td>\n",
       "        <td>13</td>\n",
       "        <td>70</td>\n",
       "        <td>24</td>\n",
       "        <td>29.150256275905534</td>\n",
       "        <td>11</td>\n",
       "        <td>52</td>\n",
       "        <td>23</td>\n",
       "        <td>17.46205581946204</td>\n",
       "    </tr>\n",
       "    <tr>\n",
       "        <td>1992</td>\n",
       "        <td>11</td>\n",
       "        <td>62</td>\n",
       "        <td>24</td>\n",
       "        <td>29.238076996153065</td>\n",
       "        <td>13</td>\n",
       "        <td>46</td>\n",
       "        <td>24</td>\n",
       "        <td>17.08599797046234</td>\n",
       "    </tr>\n",
       "    <tr>\n",
       "        <td>1994</td>\n",
       "        <td>None</td>\n",
       "        <td>None</td>\n",
       "        <td>None</td>\n",
       "        <td>None</td>\n",
       "        <td>13</td>\n",
       "        <td>46</td>\n",
       "        <td>24</td>\n",
       "        <td>17.603527791814635</td>\n",
       "    </tr>\n",
       "    <tr>\n",
       "        <td>1996</td>\n",
       "        <td>12</td>\n",
       "        <td>63</td>\n",
       "        <td>24</td>\n",
       "        <td>30.263060247773502</td>\n",
       "        <td>None</td>\n",
       "        <td>None</td>\n",
       "        <td>None</td>\n",
       "        <td>None</td>\n",
       "    </tr>\n",
       "    <tr>\n",
       "        <td>1998</td>\n",
       "        <td>None</td>\n",
       "        <td>None</td>\n",
       "        <td>None</td>\n",
       "        <td>None</td>\n",
       "        <td>14</td>\n",
       "        <td>50</td>\n",
       "        <td>25</td>\n",
       "        <td>19.702398658160618</td>\n",
       "    </tr>\n",
       "    <tr>\n",
       "        <td>2000</td>\n",
       "        <td>13</td>\n",
       "        <td>63</td>\n",
       "        <td>25</td>\n",
       "        <td>29.60243153446837</td>\n",
       "        <td>None</td>\n",
       "        <td>None</td>\n",
       "        <td>None</td>\n",
       "        <td>None</td>\n",
       "    </tr>\n",
       "    <tr>\n",
       "        <td>2002</td>\n",
       "        <td>None</td>\n",
       "        <td>None</td>\n",
       "        <td>None</td>\n",
       "        <td>None</td>\n",
       "        <td>15</td>\n",
       "        <td>48</td>\n",
       "        <td>25</td>\n",
       "        <td>22.23690379230238</td>\n",
       "    </tr>\n",
       "    <tr>\n",
       "        <td>2004</td>\n",
       "        <td>13</td>\n",
       "        <td>57</td>\n",
       "        <td>25</td>\n",
       "        <td>31.13741181652509</td>\n",
       "        <td>None</td>\n",
       "        <td>None</td>\n",
       "        <td>None</td>\n",
       "        <td>None</td>\n",
       "    </tr>\n",
       "    <tr>\n",
       "        <td>2006</td>\n",
       "        <td>None</td>\n",
       "        <td>None</td>\n",
       "        <td>None</td>\n",
       "        <td>None</td>\n",
       "        <td>14</td>\n",
       "        <td>52</td>\n",
       "        <td>25</td>\n",
       "        <td>23.876212746402683</td>\n",
       "    </tr>\n",
       "    <tr>\n",
       "        <td>2008</td>\n",
       "        <td>12</td>\n",
       "        <td>67</td>\n",
       "        <td>25</td>\n",
       "        <td>32.32947785953114</td>\n",
       "        <td>None</td>\n",
       "        <td>None</td>\n",
       "        <td>None</td>\n",
       "        <td>None</td>\n",
       "    </tr>\n",
       "    <tr>\n",
       "        <td>2010</td>\n",
       "        <td>None</td>\n",
       "        <td>None</td>\n",
       "        <td>None</td>\n",
       "        <td>None</td>\n",
       "        <td>15</td>\n",
       "        <td>51</td>\n",
       "        <td>26</td>\n",
       "        <td>25.120888173261157</td>\n",
       "    </tr>\n",
       "    <tr>\n",
       "        <td>2012</td>\n",
       "        <td>13</td>\n",
       "        <td>71</td>\n",
       "        <td>25</td>\n",
       "        <td>32.28653359213402</td>\n",
       "        <td>None</td>\n",
       "        <td>None</td>\n",
       "        <td>None</td>\n",
       "        <td>None</td>\n",
       "    </tr>\n",
       "    <tr>\n",
       "        <td>2014</td>\n",
       "        <td>None</td>\n",
       "        <td>None</td>\n",
       "        <td>None</td>\n",
       "        <td>None</td>\n",
       "        <td>15</td>\n",
       "        <td>55</td>\n",
       "        <td>25</td>\n",
       "        <td>23.517221690522096</td>\n",
       "    </tr>\n",
       "    <tr>\n",
       "        <td>2016</td>\n",
       "        <td>13</td>\n",
       "        <td>62</td>\n",
       "        <td>26</td>\n",
       "        <td>30.917678201428895</td>\n",
       "        <td>None</td>\n",
       "        <td>None</td>\n",
       "        <td>None</td>\n",
       "        <td>None</td>\n",
       "    </tr>\n",
       "</table>"
      ],
      "text/plain": [
       "[(1896, 10, 40, 23, 22.02240143369178, None, None, None, None),\n",
       " (1900, 13, 71, 29, 87.57875351516955, None, None, None, None),\n",
       " (1904, 14, 71, 26, 76.6066534940619, None, None, None, None),\n",
       " (1906, 13, 54, 27, 62.617258530706444, None, None, None, None),\n",
       " (1908, 14, 61, 26, 61.15578403594632, None, None, None, None),\n",
       " (1912, 13, 67, 27, 64.84038295212197, None, None, None, None),\n",
       " (1920, 13, 72, 29, 68.44374620002326, None, None, None, None),\n",
       " (1924, 13, 81, 28, 74.08304035936791, 11, 58, 27, 48.97374171326985),\n",
       " (1928, 11, 97, 29, 118.93684427853675, 15, 54, 26, 37.10742966900141),\n",
       " (1932, 13, 96, 33, 202.85578680390805, 11, 52, 25, 33.449755356216194),\n",
       " (1936, 12, 74, 27, 76.48352848554916, 11, 46, 25, 24.044063840363208),\n",
       " (1948, 12, 84, 29, 93.24748654592041, 15, 53, 26, 32.50355943000253),\n",
       " (1952, 13, 65, 26, 43.83151104313369, 12, 47, 25, 26.63744994317875),\n",
       " (1956, 13, 67, 26, 43.08506131207035, 12, 48, 25, 25.929199837782704),\n",
       " (1960, 12, 65, 25, 38.08302692628261, 11, 39, 24, 20.080557267666588),\n",
       " (1964, 12, 60, 25, 31.975105597154663, 13, 53, 24, 21.768654166104547),\n",
       " (1968, 11, 68, 24, 36.317311148018874, 11, 51, 24, 18.71876641678888),\n",
       " (1972, 12, 69, 24, 35.930160546839694, 13, 42, 24, 19.98596052286161),\n",
       " (1976, 12, 70, 23, 32.802134361215664, 12, 46, 23, 21.7698320494643),\n",
       " (1980, 13, 70, 23, 27.768520445745068, 13, 49, 23, 18.154642359559396),\n",
       " (1984, 12, 60, 24, 30.05881562619138, 15, 53, 23, 16.397695807730326),\n",
       " (1988, 13, 70, 24, 29.150256275905534, 11, 52, 23, 17.46205581946204),\n",
       " (1992, 11, 62, 24, 29.238076996153065, 13, 46, 24, 17.08599797046234),\n",
       " (1994, None, None, None, None, 13, 46, 24, 17.603527791814635),\n",
       " (1996, 12, 63, 24, 30.263060247773502, None, None, None, None),\n",
       " (1998, None, None, None, None, 14, 50, 25, 19.702398658160618),\n",
       " (2000, 13, 63, 25, 29.60243153446837, None, None, None, None),\n",
       " (2002, None, None, None, None, 15, 48, 25, 22.23690379230238),\n",
       " (2004, 13, 57, 25, 31.13741181652509, None, None, None, None),\n",
       " (2006, None, None, None, None, 14, 52, 25, 23.876212746402683),\n",
       " (2008, 12, 67, 25, 32.32947785953114, None, None, None, None),\n",
       " (2010, None, None, None, None, 15, 51, 26, 25.120888173261157),\n",
       " (2012, 13, 71, 25, 32.28653359213402, None, None, None, None),\n",
       " (2014, None, None, None, None, 15, 55, 25, 23.517221690522096),\n",
       " (2016, 13, 62, 26, 30.917678201428895, None, None, None, None)]"
      ]
     },
     "execution_count": 29,
     "metadata": {},
     "output_type": "execute_result"
    }
   ],
   "source": [
    "%%sql\n",
    "SELECT year,\n",
    "       Min(CASE\n",
    "             WHEN season = 'Summer' THEN Cast(age AS INT)\n",
    "           END) SummerMinAge,\n",
    "       Max(CASE\n",
    "             WHEN season = 'Summer' THEN Cast(age AS INT)\n",
    "           END) SummerMaxAge,\n",
    "       Avg(CASE\n",
    "             WHEN season = 'Summer' THEN Cast(age AS INT)\n",
    "           END) SummerAvgAge,\n",
    "       Var(CASE\n",
    "             WHEN season = 'Summer' THEN Cast(age AS INT)\n",
    "           END) SummerVarAge,\n",
    "       Min(CASE\n",
    "             WHEN season = 'Winter' THEN Cast(age AS INT)\n",
    "           END) WinterMinAge,\n",
    "       Max(CASE\n",
    "             WHEN season = 'Winter' THEN Cast(age AS INT)\n",
    "           END) WinterMaxAge,\n",
    "       Avg(CASE\n",
    "             WHEN season = 'Winter' THEN Cast(age AS INT)\n",
    "           END) WinterAvgAge,\n",
    "       Var(CASE\n",
    "             WHEN season = 'Winter' THEN Cast(age AS INT)\n",
    "           END) WinterVarAge\n",
    "FROM   athlete_events\n",
    "WHERE  age IS NOT NULL\n",
    "       AND age <> 'NA'\n",
    "GROUP  BY year\n",
    "ORDER  BY year "
   ]
  },
  {
   "cell_type": "markdown",
   "id": "c69cc88f",
   "metadata": {},
   "source": [
    "It is clear that there's a high variability in participants ages in 1932. Let's have a closer look at the data to find out what could the reason behind that be. \n",
    "\n",
    "In which sport did older participants take part in?"
   ]
  },
  {
   "cell_type": "code",
   "execution_count": 30,
   "id": "a01552b9",
   "metadata": {},
   "outputs": [
    {
     "name": "stdout",
     "output_type": "stream",
     "text": [
      " * mssql+pyodbc://@localhost\\SQLEXPRESS/OlympicsHistory?driver=SQL+Server&trusted_connection=yes\n",
      "Done.\n"
     ]
    },
    {
     "data": {
      "text/html": [
       "<table>\n",
       "    <tr>\n",
       "        <th>ID</th>\n",
       "        <th>Name</th>\n",
       "        <th>Sex</th>\n",
       "        <th>Age</th>\n",
       "        <th>Height</th>\n",
       "        <th>Weight</th>\n",
       "        <th>Team</th>\n",
       "        <th>NOC</th>\n",
       "        <th>Games</th>\n",
       "        <th>Year</th>\n",
       "        <th>Season</th>\n",
       "        <th>City</th>\n",
       "        <th>Sport</th>\n",
       "        <th>Event</th>\n",
       "        <th>Medal</th>\n",
       "    </tr>\n",
       "    <tr>\n",
       "        <td>49663</td>\n",
       "        <td>Winslow Homer</td>\n",
       "        <td>M</td>\n",
       "        <td>96</td>\n",
       "        <td>NA</td>\n",
       "        <td>NA</td>\n",
       "        <td>United States</td>\n",
       "        <td>USA</td>\n",
       "        <td>1932 Summer</td>\n",
       "        <td>1932</td>\n",
       "        <td>Summer</td>\n",
       "        <td>Los Angeles</td>\n",
       "        <td>Art Competitions</td>\n",
       "        <td>Art Competitions Mixed Painting, Unknown Event</td>\n",
       "        <td>NA</td>\n",
       "    </tr>\n",
       "</table>"
      ],
      "text/plain": [
       "[(49663, 'Winslow Homer', 'M', '96', 'NA', 'NA', 'United States', 'USA', '1932 Summer', 1932, 'Summer', 'Los Angeles', 'Art Competitions', 'Art Competitions Mixed Painting, Unknown Event', 'NA')]"
      ]
     },
     "execution_count": 30,
     "metadata": {},
     "output_type": "execute_result"
    }
   ],
   "source": [
    "%%sql\n",
    "select top 10 * from athlete_events\n",
    "where year = '1932' and season = 'Summer' and age <> 'NA' and age = 96"
   ]
  },
  {
   "cell_type": "markdown",
   "id": "ae485bcb",
   "metadata": {},
   "source": [
    "Oh, the older folks participated in Art Competitions.\n",
    "Let's see what impact does removing `Art Competitions` have on the age distribution."
   ]
  },
  {
   "cell_type": "code",
   "execution_count": 31,
   "id": "49defc53",
   "metadata": {},
   "outputs": [
    {
     "name": "stdout",
     "output_type": "stream",
     "text": [
      " * mssql+pyodbc://@localhost\\SQLEXPRESS/OlympicsHistory?driver=SQL+Server&trusted_connection=yes\n",
      "Done.\n"
     ]
    },
    {
     "data": {
      "text/html": [
       "<table>\n",
       "    <tr>\n",
       "        <th>year</th>\n",
       "        <th>SummerMinAge</th>\n",
       "        <th>SummerMaxAge</th>\n",
       "        <th>SummerAvgAge</th>\n",
       "        <th>SummerVarAge</th>\n",
       "        <th>WinterMinAge</th>\n",
       "        <th>WinterMaxAge</th>\n",
       "        <th>WinterAvgAge</th>\n",
       "        <th>WinterVarAge</th>\n",
       "    </tr>\n",
       "    <tr>\n",
       "        <td>1896</td>\n",
       "        <td>10</td>\n",
       "        <td>40</td>\n",
       "        <td>23</td>\n",
       "        <td>22.02240143369178</td>\n",
       "        <td>None</td>\n",
       "        <td>None</td>\n",
       "        <td>None</td>\n",
       "        <td>None</td>\n",
       "    </tr>\n",
       "    <tr>\n",
       "        <td>1900</td>\n",
       "        <td>13</td>\n",
       "        <td>71</td>\n",
       "        <td>29</td>\n",
       "        <td>87.57875351516955</td>\n",
       "        <td>None</td>\n",
       "        <td>None</td>\n",
       "        <td>None</td>\n",
       "        <td>None</td>\n",
       "    </tr>\n",
       "    <tr>\n",
       "        <td>1904</td>\n",
       "        <td>14</td>\n",
       "        <td>71</td>\n",
       "        <td>26</td>\n",
       "        <td>76.6066534940619</td>\n",
       "        <td>None</td>\n",
       "        <td>None</td>\n",
       "        <td>None</td>\n",
       "        <td>None</td>\n",
       "    </tr>\n",
       "    <tr>\n",
       "        <td>1906</td>\n",
       "        <td>13</td>\n",
       "        <td>54</td>\n",
       "        <td>27</td>\n",
       "        <td>62.617258530706444</td>\n",
       "        <td>None</td>\n",
       "        <td>None</td>\n",
       "        <td>None</td>\n",
       "        <td>None</td>\n",
       "    </tr>\n",
       "    <tr>\n",
       "        <td>1908</td>\n",
       "        <td>14</td>\n",
       "        <td>61</td>\n",
       "        <td>26</td>\n",
       "        <td>61.15578403594632</td>\n",
       "        <td>None</td>\n",
       "        <td>None</td>\n",
       "        <td>None</td>\n",
       "        <td>None</td>\n",
       "    </tr>\n",
       "    <tr>\n",
       "        <td>1912</td>\n",
       "        <td>13</td>\n",
       "        <td>64</td>\n",
       "        <td>27</td>\n",
       "        <td>62.604400100967034</td>\n",
       "        <td>None</td>\n",
       "        <td>None</td>\n",
       "        <td>None</td>\n",
       "        <td>None</td>\n",
       "    </tr>\n",
       "    <tr>\n",
       "        <td>1920</td>\n",
       "        <td>13</td>\n",
       "        <td>72</td>\n",
       "        <td>29</td>\n",
       "        <td>67.98906348229981</td>\n",
       "        <td>None</td>\n",
       "        <td>None</td>\n",
       "        <td>None</td>\n",
       "        <td>None</td>\n",
       "    </tr>\n",
       "    <tr>\n",
       "        <td>1924</td>\n",
       "        <td>13</td>\n",
       "        <td>60</td>\n",
       "        <td>27</td>\n",
       "        <td>54.157015903460966</td>\n",
       "        <td>11</td>\n",
       "        <td>58</td>\n",
       "        <td>27</td>\n",
       "        <td>48.97374171326985</td>\n",
       "    </tr>\n",
       "    <tr>\n",
       "        <td>1928</td>\n",
       "        <td>11</td>\n",
       "        <td>63</td>\n",
       "        <td>25</td>\n",
       "        <td>47.05709575019104</td>\n",
       "        <td>15</td>\n",
       "        <td>54</td>\n",
       "        <td>26</td>\n",
       "        <td>37.10742966900141</td>\n",
       "    </tr>\n",
       "    <tr>\n",
       "        <td>1932</td>\n",
       "        <td>13</td>\n",
       "        <td>54</td>\n",
       "        <td>25</td>\n",
       "        <td>38.055043191309956</td>\n",
       "        <td>11</td>\n",
       "        <td>52</td>\n",
       "        <td>25</td>\n",
       "        <td>33.449755356216194</td>\n",
       "    </tr>\n",
       "    <tr>\n",
       "        <td>1936</td>\n",
       "        <td>12</td>\n",
       "        <td>72</td>\n",
       "        <td>25</td>\n",
       "        <td>35.960182685284465</td>\n",
       "        <td>11</td>\n",
       "        <td>46</td>\n",
       "        <td>25</td>\n",
       "        <td>24.044063840363208</td>\n",
       "    </tr>\n",
       "    <tr>\n",
       "        <td>1948</td>\n",
       "        <td>12</td>\n",
       "        <td>61</td>\n",
       "        <td>27</td>\n",
       "        <td>50.99427202894765</td>\n",
       "        <td>15</td>\n",
       "        <td>53</td>\n",
       "        <td>26</td>\n",
       "        <td>32.50355943000253</td>\n",
       "    </tr>\n",
       "    <tr>\n",
       "        <td>1952</td>\n",
       "        <td>13</td>\n",
       "        <td>65</td>\n",
       "        <td>26</td>\n",
       "        <td>43.83151104313369</td>\n",
       "        <td>12</td>\n",
       "        <td>47</td>\n",
       "        <td>25</td>\n",
       "        <td>26.63744994317875</td>\n",
       "    </tr>\n",
       "    <tr>\n",
       "        <td>1956</td>\n",
       "        <td>13</td>\n",
       "        <td>67</td>\n",
       "        <td>26</td>\n",
       "        <td>43.08506131207035</td>\n",
       "        <td>12</td>\n",
       "        <td>48</td>\n",
       "        <td>25</td>\n",
       "        <td>25.929199837782704</td>\n",
       "    </tr>\n",
       "    <tr>\n",
       "        <td>1960</td>\n",
       "        <td>12</td>\n",
       "        <td>65</td>\n",
       "        <td>25</td>\n",
       "        <td>38.08302692628261</td>\n",
       "        <td>11</td>\n",
       "        <td>39</td>\n",
       "        <td>24</td>\n",
       "        <td>20.080557267666588</td>\n",
       "    </tr>\n",
       "    <tr>\n",
       "        <td>1964</td>\n",
       "        <td>12</td>\n",
       "        <td>60</td>\n",
       "        <td>25</td>\n",
       "        <td>31.975105597154663</td>\n",
       "        <td>13</td>\n",
       "        <td>53</td>\n",
       "        <td>24</td>\n",
       "        <td>21.768654166104547</td>\n",
       "    </tr>\n",
       "    <tr>\n",
       "        <td>1968</td>\n",
       "        <td>11</td>\n",
       "        <td>68</td>\n",
       "        <td>24</td>\n",
       "        <td>36.317311148018874</td>\n",
       "        <td>11</td>\n",
       "        <td>51</td>\n",
       "        <td>24</td>\n",
       "        <td>18.71876641678888</td>\n",
       "    </tr>\n",
       "    <tr>\n",
       "        <td>1972</td>\n",
       "        <td>12</td>\n",
       "        <td>69</td>\n",
       "        <td>24</td>\n",
       "        <td>35.930160546839694</td>\n",
       "        <td>13</td>\n",
       "        <td>42</td>\n",
       "        <td>24</td>\n",
       "        <td>19.98596052286161</td>\n",
       "    </tr>\n",
       "    <tr>\n",
       "        <td>1976</td>\n",
       "        <td>12</td>\n",
       "        <td>70</td>\n",
       "        <td>23</td>\n",
       "        <td>32.802134361215664</td>\n",
       "        <td>12</td>\n",
       "        <td>46</td>\n",
       "        <td>23</td>\n",
       "        <td>21.7698320494643</td>\n",
       "    </tr>\n",
       "    <tr>\n",
       "        <td>1980</td>\n",
       "        <td>13</td>\n",
       "        <td>70</td>\n",
       "        <td>23</td>\n",
       "        <td>27.768520445745068</td>\n",
       "        <td>13</td>\n",
       "        <td>49</td>\n",
       "        <td>23</td>\n",
       "        <td>18.154642359559396</td>\n",
       "    </tr>\n",
       "    <tr>\n",
       "        <td>1984</td>\n",
       "        <td>12</td>\n",
       "        <td>60</td>\n",
       "        <td>24</td>\n",
       "        <td>30.05881562619138</td>\n",
       "        <td>15</td>\n",
       "        <td>53</td>\n",
       "        <td>23</td>\n",
       "        <td>16.397695807730326</td>\n",
       "    </tr>\n",
       "    <tr>\n",
       "        <td>1988</td>\n",
       "        <td>13</td>\n",
       "        <td>70</td>\n",
       "        <td>24</td>\n",
       "        <td>29.150256275905534</td>\n",
       "        <td>11</td>\n",
       "        <td>52</td>\n",
       "        <td>23</td>\n",
       "        <td>17.46205581946204</td>\n",
       "    </tr>\n",
       "    <tr>\n",
       "        <td>1992</td>\n",
       "        <td>11</td>\n",
       "        <td>62</td>\n",
       "        <td>24</td>\n",
       "        <td>29.238076996153065</td>\n",
       "        <td>13</td>\n",
       "        <td>46</td>\n",
       "        <td>24</td>\n",
       "        <td>17.08599797046234</td>\n",
       "    </tr>\n",
       "    <tr>\n",
       "        <td>1994</td>\n",
       "        <td>None</td>\n",
       "        <td>None</td>\n",
       "        <td>None</td>\n",
       "        <td>None</td>\n",
       "        <td>13</td>\n",
       "        <td>46</td>\n",
       "        <td>24</td>\n",
       "        <td>17.603527791814635</td>\n",
       "    </tr>\n",
       "    <tr>\n",
       "        <td>1996</td>\n",
       "        <td>12</td>\n",
       "        <td>63</td>\n",
       "        <td>24</td>\n",
       "        <td>30.263060247773502</td>\n",
       "        <td>None</td>\n",
       "        <td>None</td>\n",
       "        <td>None</td>\n",
       "        <td>None</td>\n",
       "    </tr>\n",
       "    <tr>\n",
       "        <td>1998</td>\n",
       "        <td>None</td>\n",
       "        <td>None</td>\n",
       "        <td>None</td>\n",
       "        <td>None</td>\n",
       "        <td>14</td>\n",
       "        <td>50</td>\n",
       "        <td>25</td>\n",
       "        <td>19.702398658160618</td>\n",
       "    </tr>\n",
       "    <tr>\n",
       "        <td>2000</td>\n",
       "        <td>13</td>\n",
       "        <td>63</td>\n",
       "        <td>25</td>\n",
       "        <td>29.60243153446837</td>\n",
       "        <td>None</td>\n",
       "        <td>None</td>\n",
       "        <td>None</td>\n",
       "        <td>None</td>\n",
       "    </tr>\n",
       "    <tr>\n",
       "        <td>2002</td>\n",
       "        <td>None</td>\n",
       "        <td>None</td>\n",
       "        <td>None</td>\n",
       "        <td>None</td>\n",
       "        <td>15</td>\n",
       "        <td>48</td>\n",
       "        <td>25</td>\n",
       "        <td>22.23690379230238</td>\n",
       "    </tr>\n",
       "    <tr>\n",
       "        <td>2004</td>\n",
       "        <td>13</td>\n",
       "        <td>57</td>\n",
       "        <td>25</td>\n",
       "        <td>31.13741181652509</td>\n",
       "        <td>None</td>\n",
       "        <td>None</td>\n",
       "        <td>None</td>\n",
       "        <td>None</td>\n",
       "    </tr>\n",
       "    <tr>\n",
       "        <td>2006</td>\n",
       "        <td>None</td>\n",
       "        <td>None</td>\n",
       "        <td>None</td>\n",
       "        <td>None</td>\n",
       "        <td>14</td>\n",
       "        <td>52</td>\n",
       "        <td>25</td>\n",
       "        <td>23.876212746402683</td>\n",
       "    </tr>\n",
       "    <tr>\n",
       "        <td>2008</td>\n",
       "        <td>12</td>\n",
       "        <td>67</td>\n",
       "        <td>25</td>\n",
       "        <td>32.32947785953114</td>\n",
       "        <td>None</td>\n",
       "        <td>None</td>\n",
       "        <td>None</td>\n",
       "        <td>None</td>\n",
       "    </tr>\n",
       "    <tr>\n",
       "        <td>2010</td>\n",
       "        <td>None</td>\n",
       "        <td>None</td>\n",
       "        <td>None</td>\n",
       "        <td>None</td>\n",
       "        <td>15</td>\n",
       "        <td>51</td>\n",
       "        <td>26</td>\n",
       "        <td>25.120888173261157</td>\n",
       "    </tr>\n",
       "    <tr>\n",
       "        <td>2012</td>\n",
       "        <td>13</td>\n",
       "        <td>71</td>\n",
       "        <td>25</td>\n",
       "        <td>32.28653359213402</td>\n",
       "        <td>None</td>\n",
       "        <td>None</td>\n",
       "        <td>None</td>\n",
       "        <td>None</td>\n",
       "    </tr>\n",
       "    <tr>\n",
       "        <td>2014</td>\n",
       "        <td>None</td>\n",
       "        <td>None</td>\n",
       "        <td>None</td>\n",
       "        <td>None</td>\n",
       "        <td>15</td>\n",
       "        <td>55</td>\n",
       "        <td>25</td>\n",
       "        <td>23.517221690522096</td>\n",
       "    </tr>\n",
       "    <tr>\n",
       "        <td>2016</td>\n",
       "        <td>13</td>\n",
       "        <td>62</td>\n",
       "        <td>26</td>\n",
       "        <td>30.917678201428895</td>\n",
       "        <td>None</td>\n",
       "        <td>None</td>\n",
       "        <td>None</td>\n",
       "        <td>None</td>\n",
       "    </tr>\n",
       "</table>"
      ],
      "text/plain": [
       "[(1896, 10, 40, 23, 22.02240143369178, None, None, None, None),\n",
       " (1900, 13, 71, 29, 87.57875351516955, None, None, None, None),\n",
       " (1904, 14, 71, 26, 76.6066534940619, None, None, None, None),\n",
       " (1906, 13, 54, 27, 62.617258530706444, None, None, None, None),\n",
       " (1908, 14, 61, 26, 61.15578403594632, None, None, None, None),\n",
       " (1912, 13, 64, 27, 62.604400100967034, None, None, None, None),\n",
       " (1920, 13, 72, 29, 67.98906348229981, None, None, None, None),\n",
       " (1924, 13, 60, 27, 54.157015903460966, 11, 58, 27, 48.97374171326985),\n",
       " (1928, 11, 63, 25, 47.05709575019104, 15, 54, 26, 37.10742966900141),\n",
       " (1932, 13, 54, 25, 38.055043191309956, 11, 52, 25, 33.449755356216194),\n",
       " (1936, 12, 72, 25, 35.960182685284465, 11, 46, 25, 24.044063840363208),\n",
       " (1948, 12, 61, 27, 50.99427202894765, 15, 53, 26, 32.50355943000253),\n",
       " (1952, 13, 65, 26, 43.83151104313369, 12, 47, 25, 26.63744994317875),\n",
       " (1956, 13, 67, 26, 43.08506131207035, 12, 48, 25, 25.929199837782704),\n",
       " (1960, 12, 65, 25, 38.08302692628261, 11, 39, 24, 20.080557267666588),\n",
       " (1964, 12, 60, 25, 31.975105597154663, 13, 53, 24, 21.768654166104547),\n",
       " (1968, 11, 68, 24, 36.317311148018874, 11, 51, 24, 18.71876641678888),\n",
       " (1972, 12, 69, 24, 35.930160546839694, 13, 42, 24, 19.98596052286161),\n",
       " (1976, 12, 70, 23, 32.802134361215664, 12, 46, 23, 21.7698320494643),\n",
       " (1980, 13, 70, 23, 27.768520445745068, 13, 49, 23, 18.154642359559396),\n",
       " (1984, 12, 60, 24, 30.05881562619138, 15, 53, 23, 16.397695807730326),\n",
       " (1988, 13, 70, 24, 29.150256275905534, 11, 52, 23, 17.46205581946204),\n",
       " (1992, 11, 62, 24, 29.238076996153065, 13, 46, 24, 17.08599797046234),\n",
       " (1994, None, None, None, None, 13, 46, 24, 17.603527791814635),\n",
       " (1996, 12, 63, 24, 30.263060247773502, None, None, None, None),\n",
       " (1998, None, None, None, None, 14, 50, 25, 19.702398658160618),\n",
       " (2000, 13, 63, 25, 29.60243153446837, None, None, None, None),\n",
       " (2002, None, None, None, None, 15, 48, 25, 22.23690379230238),\n",
       " (2004, 13, 57, 25, 31.13741181652509, None, None, None, None),\n",
       " (2006, None, None, None, None, 14, 52, 25, 23.876212746402683),\n",
       " (2008, 12, 67, 25, 32.32947785953114, None, None, None, None),\n",
       " (2010, None, None, None, None, 15, 51, 26, 25.120888173261157),\n",
       " (2012, 13, 71, 25, 32.28653359213402, None, None, None, None),\n",
       " (2014, None, None, None, None, 15, 55, 25, 23.517221690522096),\n",
       " (2016, 13, 62, 26, 30.917678201428895, None, None, None, None)]"
      ]
     },
     "execution_count": 31,
     "metadata": {},
     "output_type": "execute_result"
    }
   ],
   "source": [
    "%%sql\n",
    "SELECT year,\n",
    "       Min(CASE\n",
    "             WHEN season = 'Summer' THEN Cast(age AS INT)\n",
    "           END) SummerMinAge,\n",
    "       Max(CASE\n",
    "             WHEN season = 'Summer' THEN Cast(age AS INT)\n",
    "           END) SummerMaxAge,\n",
    "       Avg(CASE\n",
    "             WHEN season = 'Summer' THEN Cast(age AS INT)\n",
    "           END) SummerAvgAge,\n",
    "       Var(CASE\n",
    "             WHEN season = 'Summer' THEN Cast(age AS INT)\n",
    "           END) SummerVarAge,\n",
    "       Min(CASE\n",
    "             WHEN season = 'Winter' THEN Cast(age AS INT)\n",
    "           END) WinterMinAge,\n",
    "       Max(CASE\n",
    "             WHEN season = 'Winter' THEN Cast(age AS INT)\n",
    "           END) WinterMaxAge,\n",
    "       Avg(CASE\n",
    "             WHEN season = 'Winter' THEN Cast(age AS INT)\n",
    "           END) WinterAvgAge,\n",
    "       Var(CASE\n",
    "             WHEN season = 'Winter' THEN Cast(age AS INT)\n",
    "           END) WinterVarAge\n",
    "FROM   athlete_events\n",
    "WHERE  age IS NOT NULL\n",
    "       AND age <> 'NA'\n",
    "       AND Sport <> 'Art Competitions'\n",
    "GROUP  BY year\n",
    "ORDER  BY year "
   ]
  },
  {
   "cell_type": "markdown",
   "id": "f8f2effd",
   "metadata": {},
   "source": [
    "I am statisfied with this now, it seems to match the result reported in [here](https://www.washingtonpost.com/sports/olympics/2021/07/31/oldest-youngest-olympians/)."
   ]
  },
  {
   "cell_type": "markdown",
   "id": "300c7dea",
   "metadata": {},
   "source": [
    "#### What is trend of age in each season? \n",
    "This is a fun question, let's try to find the slope of the best fit line across the previous plots. This can be achieved by implementing the equation of the slope of single variable linear regression:\n",
    "$$b= \\frac{n\\sum{xy} - \\sum{x}\\sum{y}}{n\\sum{x^2}-(\\sum{x})^2}$$"
   ]
  },
  {
   "cell_type": "code",
   "execution_count": 32,
   "id": "6acf0ecd",
   "metadata": {},
   "outputs": [
    {
     "name": "stdout",
     "output_type": "stream",
     "text": [
      " * mssql+pyodbc://@localhost\\SQLEXPRESS/OlympicsHistory?driver=SQL+Server&trusted_connection=yes\n",
      "Done.\n"
     ]
    },
    {
     "data": {
      "text/html": [
       "<table>\n",
       "    <tr>\n",
       "        <th>b</th>\n",
       "    </tr>\n",
       "    <tr>\n",
       "        <td>-0.4668425612349374</td>\n",
       "    </tr>\n",
       "</table>"
      ],
      "text/plain": [
       "[(-0.4668425612349374,)]"
      ]
     },
     "execution_count": 32,
     "metadata": {},
     "output_type": "execute_result"
    }
   ],
   "source": [
    "%%sql\n",
    "select (n*SigmaXY - SigmaX * SigmaY)/(n*SigmaX2 - SigmaX^2) as b from (\n",
    "                select cast(Sum(Y) as float) as SigmaY, \n",
    "                       sum(X^2) as SigmaX2,\n",
    "                       sum(X) as SigmaX,\n",
    "                       sum(Y*X) as SigmaXY,\n",
    "                       count(*) as n\n",
    "                       from (\n",
    "                        SELECT Year-1896 as X, \n",
    "                               AVG(cast(Age as int)) as Y \n",
    "                        FROM   athlete_events\n",
    "                        WHERE Age is not NULL \n",
    "                              AND Age <> 'NA'\n",
    "                              AND Sport <> 'Art Competitions'\n",
    "                              AND Season = 'Summer'\n",
    "                        GROUP BY Year \n",
    "                ) t1 \n",
    ") t2"
   ]
  },
  {
   "cell_type": "code",
   "execution_count": 33,
   "id": "89af710a",
   "metadata": {},
   "outputs": [
    {
     "name": "stdout",
     "output_type": "stream",
     "text": [
      " * mssql+pyodbc://@localhost\\SQLEXPRESS/OlympicsHistory?driver=SQL+Server&trusted_connection=yes\n",
      "Done.\n"
     ]
    },
    {
     "data": {
      "text/html": [
       "<table>\n",
       "    <tr>\n",
       "        <th>b</th>\n",
       "    </tr>\n",
       "    <tr>\n",
       "        <td>-0.13860606401530068</td>\n",
       "    </tr>\n",
       "</table>"
      ],
      "text/plain": [
       "[(-0.13860606401530068,)]"
      ]
     },
     "execution_count": 33,
     "metadata": {},
     "output_type": "execute_result"
    }
   ],
   "source": [
    "%%sql\n",
    "SELECT ( n * sigmaxy - sigmax * sigmay ) / ( n * sigmax2 - sigmax^2 ) AS b\n",
    "FROM   (SELECT Cast(Sum(y) AS FLOAT) AS SigmaY,\n",
    "               Sum(x^2)              AS SigmaX2,\n",
    "               Sum(x)                AS SigmaX,\n",
    "               Sum(y * x)            AS SigmaXY,\n",
    "               Count(*)              AS n\n",
    "        FROM   (SELECT year - 1896           AS X,\n",
    "                       Avg(Cast(age AS INT)) AS Y\n",
    "                FROM   athlete_events\n",
    "                WHERE  age IS NOT NULL\n",
    "                       AND age <> 'NA'\n",
    "                       AND sport <> 'Art Competitions'\n",
    "                       AND season = 'Winter'\n",
    "                GROUP  BY year) t1) t2 "
   ]
  },
  {
   "cell_type": "markdown",
   "id": "389799d2",
   "metadata": {},
   "source": [
    "We can see a stronger negative trend in summer events than in winter events."
   ]
  },
  {
   "cell_type": "markdown",
   "id": "d1520d3f",
   "metadata": {},
   "source": [
    "#### What is the number of participating nations for each year and season?"
   ]
  },
  {
   "cell_type": "code",
   "execution_count": 34,
   "id": "b3f86f7b",
   "metadata": {},
   "outputs": [
    {
     "name": "stdout",
     "output_type": "stream",
     "text": [
      " * mssql+pyodbc://@localhost\\SQLEXPRESS/OlympicsHistory?driver=SQL+Server&trusted_connection=yes\n",
      "Done.\n",
      "Returning data to local variable result\n"
     ]
    }
   ],
   "source": [
    "%%sql result <<\n",
    "SELECT *\n",
    "FROM   (SELECT DISTINCT Year,\n",
    "                        Season,\n",
    "                        region\n",
    "        FROM   athlete_events\n",
    "               LEFT JOIN noc_regions\n",
    "                      ON athlete_events.NOC = noc_regions.NOC) t\n",
    "       PIVOT ( Count(region)\n",
    "             FOR season IN (Summer,\n",
    "                            Winter) ) piv\n",
    "ORDER  BY Year "
   ]
  },
  {
   "cell_type": "code",
   "execution_count": 35,
   "id": "f4a2f7f9",
   "metadata": {},
   "outputs": [
    {
     "data": {
      "text/plain": [
       "<AxesSubplot:title={'center':'# Participating Nations The Olympics'}, xlabel='Year'>"
      ]
     },
     "execution_count": 35,
     "metadata": {},
     "output_type": "execute_result"
    },
    {
     "data": {
      "image/png": "[encoded data removed]",
      "text/plain": [
       "<Figure size 432x288 with 1 Axes>"
      ]
     },
     "metadata": {
      "needs_background": "light"
     },
     "output_type": "display_data"
    }
   ],
   "source": [
    "result_df = result.DataFrame()\n",
    "result_df.plot.bar(x='Year', y =['Summer', 'Winter'], title='# Participating Nations The Olympics')"
   ]
  },
  {
   "cell_type": "markdown",
   "id": "dc4342aa",
   "metadata": {},
   "source": [
    "Few observation:\n",
    "* The number of participating nations has been increasing since the inception of the first Olympic season in 1896.\n",
    "* The first winter Olympics was held in 1924. \n",
    "* Less nations participate in the winter Olympics as compared with the summer ones. \n",
    "* Since 1992, the Olympics are held every two years for alternating seasons."
   ]
  },
  {
   "cell_type": "markdown",
   "id": "e612f7fb",
   "metadata": {},
   "source": [
    "####  In which years and seasons did Iraq not participate in the Olympics?"
   ]
  },
  {
   "cell_type": "code",
   "execution_count": 36,
   "id": "1a9aa032",
   "metadata": {},
   "outputs": [
    {
     "name": "stdout",
     "output_type": "stream",
     "text": [
      " * mssql+pyodbc://@localhost\\SQLEXPRESS/OlympicsHistory?driver=SQL+Server&trusted_connection=yes\n",
      "Done.\n"
     ]
    },
    {
     "data": {
      "text/html": [
       "<table>\n",
       "    <tr>\n",
       "        <th>Year</th>\n",
       "        <th>Season</th>\n",
       "        <th>IraqIn</th>\n",
       "    </tr>\n",
       "    <tr>\n",
       "        <td>1896</td>\n",
       "        <td>Summer</td>\n",
       "        <td>0</td>\n",
       "    </tr>\n",
       "    <tr>\n",
       "        <td>1900</td>\n",
       "        <td>Summer</td>\n",
       "        <td>0</td>\n",
       "    </tr>\n",
       "    <tr>\n",
       "        <td>1904</td>\n",
       "        <td>Summer</td>\n",
       "        <td>0</td>\n",
       "    </tr>\n",
       "    <tr>\n",
       "        <td>1906</td>\n",
       "        <td>Summer</td>\n",
       "        <td>0</td>\n",
       "    </tr>\n",
       "    <tr>\n",
       "        <td>1908</td>\n",
       "        <td>Summer</td>\n",
       "        <td>0</td>\n",
       "    </tr>\n",
       "    <tr>\n",
       "        <td>1912</td>\n",
       "        <td>Summer</td>\n",
       "        <td>0</td>\n",
       "    </tr>\n",
       "    <tr>\n",
       "        <td>1920</td>\n",
       "        <td>Summer</td>\n",
       "        <td>0</td>\n",
       "    </tr>\n",
       "    <tr>\n",
       "        <td>1924</td>\n",
       "        <td>Winter</td>\n",
       "        <td>0</td>\n",
       "    </tr>\n",
       "    <tr>\n",
       "        <td>1924</td>\n",
       "        <td>Summer</td>\n",
       "        <td>0</td>\n",
       "    </tr>\n",
       "    <tr>\n",
       "        <td>1928</td>\n",
       "        <td>Winter</td>\n",
       "        <td>0</td>\n",
       "    </tr>\n",
       "    <tr>\n",
       "        <td>1928</td>\n",
       "        <td>Summer</td>\n",
       "        <td>0</td>\n",
       "    </tr>\n",
       "    <tr>\n",
       "        <td>1932</td>\n",
       "        <td>Winter</td>\n",
       "        <td>0</td>\n",
       "    </tr>\n",
       "    <tr>\n",
       "        <td>1932</td>\n",
       "        <td>Summer</td>\n",
       "        <td>0</td>\n",
       "    </tr>\n",
       "    <tr>\n",
       "        <td>1936</td>\n",
       "        <td>Winter</td>\n",
       "        <td>0</td>\n",
       "    </tr>\n",
       "    <tr>\n",
       "        <td>1936</td>\n",
       "        <td>Summer</td>\n",
       "        <td>0</td>\n",
       "    </tr>\n",
       "    <tr>\n",
       "        <td>1948</td>\n",
       "        <td>Winter</td>\n",
       "        <td>0</td>\n",
       "    </tr>\n",
       "    <tr>\n",
       "        <td>1952</td>\n",
       "        <td>Winter</td>\n",
       "        <td>0</td>\n",
       "    </tr>\n",
       "    <tr>\n",
       "        <td>1952</td>\n",
       "        <td>Summer</td>\n",
       "        <td>0</td>\n",
       "    </tr>\n",
       "    <tr>\n",
       "        <td>1956</td>\n",
       "        <td>Winter</td>\n",
       "        <td>0</td>\n",
       "    </tr>\n",
       "    <tr>\n",
       "        <td>1956</td>\n",
       "        <td>Summer</td>\n",
       "        <td>0</td>\n",
       "    </tr>\n",
       "    <tr>\n",
       "        <td>1960</td>\n",
       "        <td>Winter</td>\n",
       "        <td>0</td>\n",
       "    </tr>\n",
       "    <tr>\n",
       "        <td>1964</td>\n",
       "        <td>Winter</td>\n",
       "        <td>0</td>\n",
       "    </tr>\n",
       "    <tr>\n",
       "        <td>1968</td>\n",
       "        <td>Winter</td>\n",
       "        <td>0</td>\n",
       "    </tr>\n",
       "    <tr>\n",
       "        <td>1972</td>\n",
       "        <td>Summer</td>\n",
       "        <td>0</td>\n",
       "    </tr>\n",
       "    <tr>\n",
       "        <td>1972</td>\n",
       "        <td>Winter</td>\n",
       "        <td>0</td>\n",
       "    </tr>\n",
       "    <tr>\n",
       "        <td>1976</td>\n",
       "        <td>Winter</td>\n",
       "        <td>0</td>\n",
       "    </tr>\n",
       "    <tr>\n",
       "        <td>1976</td>\n",
       "        <td>Summer</td>\n",
       "        <td>0</td>\n",
       "    </tr>\n",
       "    <tr>\n",
       "        <td>1980</td>\n",
       "        <td>Winter</td>\n",
       "        <td>0</td>\n",
       "    </tr>\n",
       "    <tr>\n",
       "        <td>1984</td>\n",
       "        <td>Winter</td>\n",
       "        <td>0</td>\n",
       "    </tr>\n",
       "    <tr>\n",
       "        <td>1988</td>\n",
       "        <td>Winter</td>\n",
       "        <td>0</td>\n",
       "    </tr>\n",
       "    <tr>\n",
       "        <td>1992</td>\n",
       "        <td>Winter</td>\n",
       "        <td>0</td>\n",
       "    </tr>\n",
       "    <tr>\n",
       "        <td>1994</td>\n",
       "        <td>Winter</td>\n",
       "        <td>0</td>\n",
       "    </tr>\n",
       "    <tr>\n",
       "        <td>1998</td>\n",
       "        <td>Winter</td>\n",
       "        <td>0</td>\n",
       "    </tr>\n",
       "    <tr>\n",
       "        <td>2002</td>\n",
       "        <td>Winter</td>\n",
       "        <td>0</td>\n",
       "    </tr>\n",
       "    <tr>\n",
       "        <td>2006</td>\n",
       "        <td>Winter</td>\n",
       "        <td>0</td>\n",
       "    </tr>\n",
       "    <tr>\n",
       "        <td>2010</td>\n",
       "        <td>Winter</td>\n",
       "        <td>0</td>\n",
       "    </tr>\n",
       "    <tr>\n",
       "        <td>2014</td>\n",
       "        <td>Winter</td>\n",
       "        <td>0</td>\n",
       "    </tr>\n",
       "</table>"
      ],
      "text/plain": [
       "[(1896, 'Summer', 0),\n",
       " (1900, 'Summer', 0),\n",
       " (1904, 'Summer', 0),\n",
       " (1906, 'Summer', 0),\n",
       " (1908, 'Summer', 0),\n",
       " (1912, 'Summer', 0),\n",
       " (1920, 'Summer', 0),\n",
       " (1924, 'Winter', 0),\n",
       " (1924, 'Summer', 0),\n",
       " (1928, 'Winter', 0),\n",
       " (1928, 'Summer', 0),\n",
       " (1932, 'Winter', 0),\n",
       " (1932, 'Summer', 0),\n",
       " (1936, 'Winter', 0),\n",
       " (1936, 'Summer', 0),\n",
       " (1948, 'Winter', 0),\n",
       " (1952, 'Winter', 0),\n",
       " (1952, 'Summer', 0),\n",
       " (1956, 'Winter', 0),\n",
       " (1956, 'Summer', 0),\n",
       " (1960, 'Winter', 0),\n",
       " (1964, 'Winter', 0),\n",
       " (1968, 'Winter', 0),\n",
       " (1972, 'Summer', 0),\n",
       " (1972, 'Winter', 0),\n",
       " (1976, 'Winter', 0),\n",
       " (1976, 'Summer', 0),\n",
       " (1980, 'Winter', 0),\n",
       " (1984, 'Winter', 0),\n",
       " (1988, 'Winter', 0),\n",
       " (1992, 'Winter', 0),\n",
       " (1994, 'Winter', 0),\n",
       " (1998, 'Winter', 0),\n",
       " (2002, 'Winter', 0),\n",
       " (2006, 'Winter', 0),\n",
       " (2010, 'Winter', 0),\n",
       " (2014, 'Winter', 0)]"
      ]
     },
     "execution_count": 36,
     "metadata": {},
     "output_type": "execute_result"
    }
   ],
   "source": [
    "%%sql\n",
    "SELECT Year,\n",
    "       Season,\n",
    "       Sum(Iraq) AS IraqIn\n",
    "FROM   (SELECT DISTINCT Year,\n",
    "                        Season,\n",
    "                        region,\n",
    "                        CASE region\n",
    "                          WHEN 'Iraq' THEN 1\n",
    "                          ELSE 0\n",
    "                        END AS Iraq\n",
    "        FROM   athlete_events\n",
    "               LEFT JOIN noc_regions\n",
    "                      ON athlete_events.NOC = noc_regions.NOC) t\n",
    "GROUP  BY Year,\n",
    "          Season\n",
    "HAVING Sum(Iraq) = 0\n",
    "ORDER  BY Year "
   ]
  },
  {
   "cell_type": "markdown",
   "id": "bb386d3c",
   "metadata": {},
   "source": [
    "#### What is the number of medals per Sport for sports which have more than 500 medals granted?"
   ]
  },
  {
   "cell_type": "code",
   "execution_count": 37,
   "id": "84e23812",
   "metadata": {},
   "outputs": [
    {
     "name": "stdout",
     "output_type": "stream",
     "text": [
      " * mssql+pyodbc://@localhost\\SQLEXPRESS/OlympicsHistory?driver=SQL+Server&trusted_connection=yes\n",
      "Done.\n",
      "Returning data to local variable results\n"
     ]
    }
   ],
   "source": [
    "%%sql results <<\n",
    "SELECT Sport,\n",
    "       COUNT(Medal) AS MedalsGranted\n",
    "FROM   (SELECT DISTINCT CAST(athlete_events.NAME AS CHAR(100)) AS Name,\n",
    "                        Games,\n",
    "                        region,\n",
    "                        Sport,\n",
    "                        Medal\n",
    "        FROM   athlete_events\n",
    "               LEFT JOIN noc_regions\n",
    "                      ON athlete_events.NOC = noc_regions.NOC\n",
    "        WHERE  Medal IS NOT NULL\n",
    "               AND Medal <> 'NA') t1\n",
    "GROUP  BY Sport\n",
    "HAVING COUNT(Medal) > 500\n",
    "ORDER  BY MedalsGranted DESC"
   ]
  },
  {
   "cell_type": "code",
   "execution_count": 38,
   "id": "51c7a944",
   "metadata": {},
   "outputs": [
    {
     "data": {
      "text/plain": [
       "<AxesSubplot:xlabel='Sport'>"
      ]
     },
     "execution_count": 38,
     "metadata": {},
     "output_type": "execute_result"
    },
    {
     "data": {
      "image/png": "[encoded data removed]",
      "text/plain": [
       "<Figure size 432x288 with 1 Axes>"
      ]
     },
     "metadata": {
      "needs_background": "light"
     },
     "output_type": "display_data"
    }
   ],
   "source": [
    "results_df = results.DataFrame()\n",
    "results_df.plot.bar(x='Sport', y='MedalsGranted')"
   ]
  },
  {
   "cell_type": "markdown",
   "id": "c000abb2",
   "metadata": {},
   "source": [
    "#### Which countries participated less than 5 times in the Olympics?"
   ]
  },
  {
   "cell_type": "code",
   "execution_count": 39,
   "id": "6150cb59",
   "metadata": {},
   "outputs": [
    {
     "name": "stdout",
     "output_type": "stream",
     "text": [
      " * mssql+pyodbc://@localhost\\SQLEXPRESS/OlympicsHistory?driver=SQL+Server&trusted_connection=yes\n",
      "Done.\n"
     ]
    },
    {
     "data": {
      "text/html": [
       "<table>\n",
       "    <tr>\n",
       "        <th>region</th>\n",
       "        <th>TimesParticipated</th>\n",
       "    </tr>\n",
       "    <tr>\n",
       "        <td>Kosovo</td>\n",
       "        <td>1</td>\n",
       "    </tr>\n",
       "    <tr>\n",
       "        <td>South Sudan</td>\n",
       "        <td>1</td>\n",
       "    </tr>\n",
       "    <tr>\n",
       "        <td>Marshall Islands</td>\n",
       "        <td>3</td>\n",
       "    </tr>\n",
       "    <tr>\n",
       "        <td>Kiribati</td>\n",
       "        <td>4</td>\n",
       "    </tr>\n",
       "</table>"
      ],
      "text/plain": [
       "[('Kosovo', 1), ('South Sudan', 1), ('Marshall Islands', 3), ('Kiribati', 4)]"
      ]
     },
     "execution_count": 39,
     "metadata": {},
     "output_type": "execute_result"
    }
   ],
   "source": [
    "%%sql\n",
    "SELECT region,\n",
    "       Count(Games) AS TimesParticipated\n",
    "FROM   (SELECT DISTINCT Games,\n",
    "                        region\n",
    "        FROM   athlete_events\n",
    "               LEFT JOIN noc_regions\n",
    "                      ON athlete_events.NOC = noc_regions.NOC\n",
    "        WHERE  region IS NOT NULL\n",
    "               AND region <> 'NA') t1\n",
    "GROUP  BY region\n",
    "HAVING Count(Games) < 5\n",
    "ORDER  BY TimesParticipated "
   ]
  },
  {
   "cell_type": "markdown",
   "id": "d99d9a13",
   "metadata": {},
   "source": [
    "#### Which are the top 5 countries by the number of Judo players?"
   ]
  },
  {
   "cell_type": "code",
   "execution_count": 40,
   "id": "8da82e77",
   "metadata": {},
   "outputs": [
    {
     "name": "stdout",
     "output_type": "stream",
     "text": [
      " * mssql+pyodbc://@localhost\\SQLEXPRESS/OlympicsHistory?driver=SQL+Server&trusted_connection=yes\n",
      "Done.\n"
     ]
    },
    {
     "data": {
      "text/html": [
       "<table>\n",
       "    <tr>\n",
       "        <th>region</th>\n",
       "        <th>NumPlayers</th>\n",
       "    </tr>\n",
       "    <tr>\n",
       "        <td>Germany</td>\n",
       "        <td>95</td>\n",
       "    </tr>\n",
       "    <tr>\n",
       "        <td>South Korea</td>\n",
       "        <td>95</td>\n",
       "    </tr>\n",
       "    <tr>\n",
       "        <td>Russia</td>\n",
       "        <td>94</td>\n",
       "    </tr>\n",
       "    <tr>\n",
       "        <td>France</td>\n",
       "        <td>93</td>\n",
       "    </tr>\n",
       "    <tr>\n",
       "        <td>Japan</td>\n",
       "        <td>93</td>\n",
       "    </tr>\n",
       "</table>"
      ],
      "text/plain": [
       "[('Germany', 95),\n",
       " ('South Korea', 95),\n",
       " ('Russia', 94),\n",
       " ('France', 93),\n",
       " ('Japan', 93)]"
      ]
     },
     "execution_count": 40,
     "metadata": {},
     "output_type": "execute_result"
    }
   ],
   "source": [
    "%%sql\n",
    "SELECT TOP 5 region,\n",
    "       Count(DISTINCT Cast(Name AS NVARCHAR(50))) NumPlayers\n",
    "FROM   athlete_events\n",
    "       LEFT JOIN noc_regions\n",
    "              ON athlete_events.NOC = noc_regions.NOC\n",
    "WHERE  Sport = 'Judo'\n",
    "GROUP  BY region\n",
    "ORDER  BY NumPlayers DESC "
   ]
  },
  {
   "cell_type": "markdown",
   "id": "bf6304f2",
   "metadata": {},
   "source": [
    "#### What is percentage of Judo players in each of these countries?"
   ]
  },
  {
   "cell_type": "code",
   "execution_count": 41,
   "id": "f3e2ed90",
   "metadata": {},
   "outputs": [
    {
     "name": "stdout",
     "output_type": "stream",
     "text": [
      " * mssql+pyodbc://@localhost\\SQLEXPRESS/OlympicsHistory?driver=SQL+Server&trusted_connection=yes\n",
      "Done.\n",
      "Returning data to local variable result\n"
     ]
    }
   ],
   "source": [
    "%%sql result <<\n",
    "SELECT top 20 region,\n",
    "       ( CAST(COUNT(DISTINCT CAST(Name AS NVARCHAR(50))) AS FLOAT) /\n",
    "           (SELECT COUNT(DISTINCT CAST(Name AS NVARCHAR(50))) NumJudoPlayers\n",
    "        FROM\n",
    "           athlete_events\n",
    "        WHERE\n",
    "           sport =\n",
    "           'Judo'\n",
    "           ) ) * 100 JudoPlayersPercentage\n",
    "FROM   athlete_events\n",
    "       LEFT JOIN noc_regions\n",
    "              ON athlete_events.noc = noc_regions.noc\n",
    "WHERE  sport = 'Judo'\n",
    "GROUP  BY region\n",
    "ORDER  BY JudoPlayersPercentage DESC "
   ]
  },
  {
   "cell_type": "code",
   "execution_count": 42,
   "id": "7acd8be4",
   "metadata": {},
   "outputs": [
    {
     "data": {
      "text/plain": [
       "<AxesSubplot:xlabel='region'>"
      ]
     },
     "execution_count": 42,
     "metadata": {},
     "output_type": "execute_result"
    },
    {
     "data": {
      "image/png": "[encoded data removed]",
      "text/plain": [
       "<Figure size 432x288 with 1 Axes>"
      ]
     },
     "metadata": {
      "needs_background": "light"
     },
     "output_type": "display_data"
    }
   ],
   "source": [
    "result_df = result.DataFrame()\n",
    "result_df.plot.bar(x='region', y='JudoPlayersPercentage')"
   ]
  },
  {
   "cell_type": "markdown",
   "id": "1dfc1739",
   "metadata": {},
   "source": [
    "#### Which are the top 5 countries by the number of medals in judo?"
   ]
  },
  {
   "cell_type": "code",
   "execution_count": 43,
   "id": "d0ebad90",
   "metadata": {},
   "outputs": [
    {
     "name": "stdout",
     "output_type": "stream",
     "text": [
      " * mssql+pyodbc://@localhost\\SQLEXPRESS/OlympicsHistory?driver=SQL+Server&trusted_connection=yes\n",
      "Done.\n"
     ]
    },
    {
     "data": {
      "text/html": [
       "<table>\n",
       "    <tr>\n",
       "        <th>region</th>\n",
       "        <th>NumMedals</th>\n",
       "    </tr>\n",
       "    <tr>\n",
       "        <td>Japan</td>\n",
       "        <td>84</td>\n",
       "    </tr>\n",
       "    <tr>\n",
       "        <td>France</td>\n",
       "        <td>49</td>\n",
       "    </tr>\n",
       "    <tr>\n",
       "        <td>Russia</td>\n",
       "        <td>43</td>\n",
       "    </tr>\n",
       "    <tr>\n",
       "        <td>South Korea</td>\n",
       "        <td>43</td>\n",
       "    </tr>\n",
       "    <tr>\n",
       "        <td>Germany</td>\n",
       "        <td>37</td>\n",
       "    </tr>\n",
       "</table>"
      ],
      "text/plain": [
       "[('Japan', 84),\n",
       " ('France', 49),\n",
       " ('Russia', 43),\n",
       " ('South Korea', 43),\n",
       " ('Germany', 37)]"
      ]
     },
     "execution_count": 43,
     "metadata": {},
     "output_type": "execute_result"
    }
   ],
   "source": [
    "%%sql\n",
    "SELECT TOP 5 region,\n",
    "             Count(Medal) AS NumMedals\n",
    "FROM   (SELECT DISTINCT CAST(NAME AS CHAR(100)) AS Name,\n",
    "                        Games,\n",
    "                        region,\n",
    "                        Medal\n",
    "        FROM   athlete_events\n",
    "               LEFT JOIN noc_regions\n",
    "                      ON athlete_events.NOC = noc_regions.NOC\n",
    "        WHERE  sport = 'Judo'\n",
    "               AND Medal <> 'NA') t1\n",
    "GROUP  BY region\n",
    "ORDER  BY NumMedals DESC "
   ]
  },
  {
   "cell_type": "markdown",
   "id": "fd322ebb",
   "metadata": {},
   "source": [
    "#### Who are the top 5 players who participated the largest number of times?"
   ]
  },
  {
   "cell_type": "code",
   "execution_count": 44,
   "id": "4ebbd90a",
   "metadata": {},
   "outputs": [
    {
     "name": "stdout",
     "output_type": "stream",
     "text": [
      " * mssql+pyodbc://@localhost\\SQLEXPRESS/OlympicsHistory?driver=SQL+Server&trusted_connection=yes\n",
      "Done.\n"
     ]
    },
    {
     "data": {
      "text/html": [
       "<table>\n",
       "    <tr>\n",
       "        <th>Name</th>\n",
       "        <th>GamesParticipated</th>\n",
       "    </tr>\n",
       "    <tr>\n",
       "        <td>Heikki Ilmari Savolainen                                                                            </td>\n",
       "        <td>39</td>\n",
       "    </tr>\n",
       "    <tr>\n",
       "        <td>Joseph &quot;Josy&quot; Stoffel                                                                               </td>\n",
       "        <td>38</td>\n",
       "    </tr>\n",
       "    <tr>\n",
       "        <td>Ioannis Theofilakis                                                                                 </td>\n",
       "        <td>36</td>\n",
       "    </tr>\n",
       "    <tr>\n",
       "        <td>Takashi Ono                                                                                         </td>\n",
       "        <td>33</td>\n",
       "    </tr>\n",
       "    <tr>\n",
       "        <td>Andreas Wecker                                                                                      </td>\n",
       "        <td>32</td>\n",
       "    </tr>\n",
       "</table>"
      ],
      "text/plain": [
       "[('Heikki Ilmari Savolainen                                                                            ', 39),\n",
       " ('Joseph \"Josy\" Stoffel                                                                               ', 38),\n",
       " ('Ioannis Theofilakis                                                                                 ', 36),\n",
       " ('Takashi Ono                                                                                         ', 33),\n",
       " ('Andreas Wecker                                                                                      ', 32)]"
      ]
     },
     "execution_count": 44,
     "metadata": {},
     "output_type": "execute_result"
    }
   ],
   "source": [
    "%%sql\n",
    "SELECT TOP 5 CAST(NAME AS CHAR(100)) Name,\n",
    "             COUNT(Games)            GamesParticipated\n",
    "FROM   athlete_events\n",
    "WHERE Sport <> 'Art Competitions'\n",
    "GROUP  BY CAST(NAME AS CHAR(100))\n",
    "ORDER  BY GamesParticipated DESC "
   ]
  },
  {
   "cell_type": "markdown",
   "id": "a3dbf978",
   "metadata": {},
   "source": [
    "# Conclusions\n",
    "\n",
    "Writing this article was really interesting, and I enjoyed learning about the Olympics things that I didn't know. This article is far from being perfect but I feel, it serves its purpose. \n",
    "\n",
    "Writing SQL statements like this has its benefits as well as its limitations. \n",
    "\n",
    "Some of the positives include: \n",
    "* The ability to grab the needed data and plot it in Python or apply and subsequent processing to it is very interesting.\n",
    "\n",
    "Among the limitations are:\n",
    "* If the query returns a large table, Jupyter could freeze and crash. To alleviate this issue, one can limit the size of returned rows by using `select top x`, for example. \n",
    "* Syntax highlighting, code auto completion, code formatting/linting are missing. \n"
   ]
  }
 ],
 "metadata": {
  "kernelspec": {
   "display_name": "Python 3",
   "language": "python",
   "name": "python3"
  },
  "language_info": {
   "codemirror_mode": {
    "name": "ipython",
    "version": 3
   },
   "file_extension": ".py",
   "mimetype": "text/x-python",
   "name": "python",
   "nbconvert_exporter": "python",
   "pygments_lexer": "ipython3",
   "version": "3.8.8"
  }
 },
 "nbformat": 4,
 "nbformat_minor": 5
}
